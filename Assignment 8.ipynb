{
 "cells": [
  {
   "cell_type": "markdown",
   "id": "000c7c82",
   "metadata": {},
   "source": [
    "1. Is the Python Standard Library included with PyInputPlus?"
   ]
  },
  {
   "cell_type": "markdown",
   "id": "7ac1baa8",
   "metadata": {},
   "source": [
    "No"
   ]
  },
  {
   "cell_type": "markdown",
   "id": "11dde2e2",
   "metadata": {},
   "source": [
    "2. Why is PyInputPlus commonly imported with import pyinputplus as pypi?"
   ]
  },
  {
   "cell_type": "markdown",
   "id": "dcb86f1c",
   "metadata": {},
   "source": [
    "You can import the module with import pyinputplus as pyip so that you can enter a shorter name when you calling the module"
   ]
  },
  {
   "cell_type": "markdown",
   "id": "0957265f",
   "metadata": {},
   "source": [
    "3. How do you distinguish between inputInt() and inputFloat()?"
   ]
  },
  {
   "cell_type": "markdown",
   "id": "8d263452",
   "metadata": {},
   "source": [
    "when a user type a decimal use inputfloat() while when a user type integer use inputint()"
   ]
  },
  {
   "cell_type": "markdown",
   "id": "27c51278",
   "metadata": {},
   "source": [
    "4. Using PyInputPlus, how do you ensure that the user enters a whole number between 0 and 99?"
   ]
  },
  {
   "cell_type": "markdown",
   "id": "38311c58",
   "metadata": {},
   "source": [
    "Pyinputplus modu;e provide a function called as inputint() in order to restrict to input between 0 to 99 i will use the paramter like max and min"
   ]
  },
  {
   "cell_type": "markdown",
   "id": "b0d3bc37",
   "metadata": {},
   "source": [
    "5. What is transferred to the keyword arguments allowRegexes and blockRegexes?"
   ]
  },
  {
   "cell_type": "markdown",
   "id": "5dd750d0",
   "metadata": {},
   "source": [
    "allowRegexes and blockRegexes  keyword arguments to take list of regular expression string to determine what  the pyinputplus function will reject or accept."
   ]
  },
  {
   "cell_type": "markdown",
   "id": "61395ae8",
   "metadata": {},
   "source": [
    "6. If a blank input is entered three times, what does inputStr(limit=3) do?"
   ]
  },
  {
   "cell_type": "markdown",
   "id": "03d25223",
   "metadata": {},
   "source": [
    "The statement inputStr(limit=3) will two expression Validationexception and retrylimitexception."
   ]
  },
  {
   "cell_type": "markdown",
   "id": "2acf6701",
   "metadata": {},
   "source": [
    "7. If blank input is entered three times, what does inputStr(limit=3, default=&#39;hello&#39;) do?"
   ]
  },
  {
   "cell_type": "markdown",
   "id": "d863ee82",
   "metadata": {},
   "source": [
    "since the default parameter is set to 'hello' after blan input enter three times instead of raising retrylimitexception."
   ]
  }
 ],
 "metadata": {
  "kernelspec": {
   "display_name": "Python 3 (ipykernel)",
   "language": "python",
   "name": "python3"
  },
  "language_info": {
   "codemirror_mode": {
    "name": "ipython",
    "version": 3
   },
   "file_extension": ".py",
   "mimetype": "text/x-python",
   "name": "python",
   "nbconvert_exporter": "python",
   "pygments_lexer": "ipython3",
   "version": "3.9.7"
  }
 },
 "nbformat": 4,
 "nbformat_minor": 5
}
