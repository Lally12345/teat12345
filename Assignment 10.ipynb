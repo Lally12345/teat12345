{
 "cells": [
  {
   "cell_type": "markdown",
   "id": "4473baf6",
   "metadata": {},
   "source": [
    "1. How do you distinguish between shutil.copy() and shutil.copytree()?"
   ]
  },
  {
   "cell_type": "markdown",
   "id": "bb7ce6f2",
   "metadata": {},
   "source": [
    "While shutil.copy()  will copy one single file whereas shutil.copytree() will copy an entire folder"
   ]
  },
  {
   "cell_type": "markdown",
   "id": "356d586e",
   "metadata": {},
   "source": [
    "2. What function is used to rename files??"
   ]
  },
  {
   "cell_type": "markdown",
   "id": "a12798c9",
   "metadata": {},
   "source": [
    "os.rename() function is used to rename a file or directory"
   ]
  },
  {
   "cell_type": "markdown",
   "id": "db485cad",
   "metadata": {},
   "source": [
    "3. What is the difference between the delete functions in the send2trash and shutil modules?"
   ]
  },
  {
   "cell_type": "markdown",
   "id": "6030ce9b",
   "metadata": {},
   "source": [
    "The send2trash function will move a file or folder to recycle bin while shutil modules function will permanently delete files and folders."
   ]
  },
  {
   "cell_type": "markdown",
   "id": "d9553401",
   "metadata": {},
   "source": [
    "4.ZipFile objects have a close() method just like File objects’ close() method. What ZipFile method is\n",
    "equivalent to File objects’ open() method?"
   ]
  },
  {
   "cell_type": "markdown",
   "id": "fb6a9fb3",
   "metadata": {},
   "source": [
    "Zip file provide a method calleed as ZipFile.ZipFile() to read and write the ZipFile"
   ]
  },
  {
   "cell_type": "markdown",
   "id": "14b73e5f",
   "metadata": {},
   "source": [
    "5. Create a programme that searches a folder tree for files with a certain file extension (such as .pdf\n",
    "or .jpg). Copy these files from whatever location they are in to a new folder."
   ]
  },
  {
   "cell_type": "code",
   "execution_count": null,
   "id": "dd657580",
   "metadata": {},
   "outputs": [],
   "source": []
  }
 ],
 "metadata": {
  "kernelspec": {
   "display_name": "Python 3 (ipykernel)",
   "language": "python",
   "name": "python3"
  },
  "language_info": {
   "codemirror_mode": {
    "name": "ipython",
    "version": 3
   },
   "file_extension": ".py",
   "mimetype": "text/x-python",
   "name": "python",
   "nbconvert_exporter": "python",
   "pygments_lexer": "ipython3",
   "version": "3.9.7"
  }
 },
 "nbformat": 4,
 "nbformat_minor": 5
}
