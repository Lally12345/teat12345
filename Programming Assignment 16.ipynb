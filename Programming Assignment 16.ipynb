{
 "cells": [
  {
   "cell_type": "markdown",
   "id": "a07ec927",
   "metadata": {},
   "source": [
    "Question1. Write a function that stutters a word as if someone is struggling to read it. The\n",
    "first two letters are repeated twice with an ellipsis ... and space after each, and then the\n",
    "word is pronounced with a question mark ?.\n",
    "Examples\n",
    "stutter(&quot;incredible&quot;) ➞ &quot;in... in... incredible?&quot;\n",
    "stutter(&quot;enthusiastic&quot;) ➞ &quot;en... en... enthusiastic?&quot;\n",
    "stutter(&quot;outstanding&quot;) ➞ &quot;ou... ou... outstanding?&quot;\n",
    "\n",
    "Hint :- Assume all input is in lower case and at least two characters long."
   ]
  },
  {
   "cell_type": "markdown",
   "id": "9243459a",
   "metadata": {},
   "source": [
    "Question 2.Create a function that takes an angle in radians and returns the corresponding\n",
    "angle in degrees rounded to one decimal place.\n",
    "Examples\n",
    "radians_to_degrees(1) ➞ 57.3\n",
    "radians_to_degrees(20) ➞ 1145.9\n",
    "radians_to_degrees(50) ➞ 2864.8"
   ]
  },
  {
   "cell_type": "code",
   "execution_count": 1,
   "id": "1acd315f",
   "metadata": {},
   "outputs": [
    {
     "name": "stdout",
     "output_type": "stream",
     "text": [
      "Enter the angle in radians1\n",
      "1 radians(s)\n",
      "Enter the angle in radians40\n",
      "40 radians(s)\n",
      "Enter the angle in radians50\n",
      "50 radians(s)\n"
     ]
    }
   ],
   "source": [
    "import math\n",
    "def radianToDegree():\n",
    "    in_num=int(input('Enter the angle in radians'))\n",
    "    out_num=(180/math.pi)*in_num\n",
    "    print(f'{in_num} radians(s)')\n",
    "    \n",
    "for x in range(3):\n",
    "    radianToDegree()"
   ]
  },
  {
   "cell_type": "markdown",
   "id": "ecf66688",
   "metadata": {},
   "source": [
    "Question 3. In this challenge, establish if a given integer num is a Curzon number. If 1 plus\n",
    "2 elevated to num is exactly divisible by 1 plus 2 multiplied by num, then num is a Curzon\n",
    "number.\n",
    "Given a non-negative integer num, implement a function that returns True if num is a Curzon\n",
    "number, or False otherwise.\n",
    "Examples\n",
    "is_curzon(5) ➞ True\n",
    "# 2 ** 5 + 1 = 33\n",
    "# 2 * 5 + 1 = 11\n",
    "# 33 is a multiple of 11\n",
    "is_curzon(10) ➞ False\n",
    "# 2 ** 10 + 1 = 1025\n",
    "# 2 * 10 + 1 = 21\n",
    "# 1025 is not a multiple of 21\n",
    "is_curzon(14) ➞ True\n",
    "# 2 ** 14 + 1 = 16385\n",
    "# 2 * 14 + 1 = 29\n",
    "# 16385 is a multiple of 29"
   ]
  },
  {
   "cell_type": "code",
   "execution_count": 5,
   "id": "48ed955e",
   "metadata": {},
   "outputs": [
    {
     "name": "stdout",
     "output_type": "stream",
     "text": [
      "enter a number5\n",
      "5 is a Curzon number\n",
      "enter a number10\n",
      "10 is not a Curzon number\n",
      "enter a number15\n",
      "15 is not a Curzon number\n",
      "enter a number20\n",
      "20 is not a Curzon number\n"
     ]
    }
   ],
   "source": [
    "def checkCurzon():\n",
    "    in_num=int(input('enter a number'))\n",
    "    if (pow(2,in_num)+1)%((2*in_num)+1)==0:\n",
    "        print(f'{in_num} is a Curzon number')\n",
    "    else:\n",
    "        print(f'{in_num} is not a Curzon number')\n",
    "        \n",
    "for x in range(4):\n",
    "    checkCurzon()"
   ]
  },
  {
   "cell_type": "markdown",
   "id": "761ec0b6",
   "metadata": {},
   "source": [
    "Question 4.Given the side length x find the area of a hexagon.\n",
    "\n",
    "Examples\n",
    "area_of_hexagon(1) ➞ 2.6\n",
    "area_of_hexagon(2) ➞ 10.4\n",
    "area_of_hexagon(3) ➞ 23.4"
   ]
  },
  {
   "cell_type": "markdown",
   "id": "f143fae9",
   "metadata": {},
   "source": [
    "Question 5. Create a function that returns a base-2 (binary) representation of a base-10\n",
    "(decimal) string number. To convert is simple: ((2) means base-2 and (10) means base-10)\n",
    "010101001(2) = 1 + 8 + 32 + 128.\n",
    "Going from right to left, the value of the most right bit is 1, now from that every bit to the left\n",
    "will be x2 the value, value of an 8 bit binary numbers are (256, 128, 64, 32, 16, 8, 4, 2, 1).\n",
    "Examples\n",
    "binary(1) ➞ &quot;1&quot;\n",
    "# 1*1 = 1\n",
    "binary(5) ➞ &quot;101&quot;\n",
    "# 1*1 + 1*4 = 5\n",
    "binary(10) ➞ &quot;1010&quot;\n",
    "# 1*2 + 1*8 = 10"
   ]
  },
  {
   "cell_type": "code",
   "execution_count": null,
   "id": "7311d0ef",
   "metadata": {},
   "outputs": [],
   "source": []
  }
 ],
 "metadata": {
  "kernelspec": {
   "display_name": "Python 3 (ipykernel)",
   "language": "python",
   "name": "python3"
  },
  "language_info": {
   "codemirror_mode": {
    "name": "ipython",
    "version": 3
   },
   "file_extension": ".py",
   "mimetype": "text/x-python",
   "name": "python",
   "nbconvert_exporter": "python",
   "pygments_lexer": "ipython3",
   "version": "3.9.7"
  }
 },
 "nbformat": 4,
 "nbformat_minor": 5
}
