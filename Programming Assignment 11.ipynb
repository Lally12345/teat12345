{
 "cells": [
  {
   "cell_type": "markdown",
   "id": "31b135c4",
   "metadata": {},
   "source": [
    "1. Write a Python program to find words which are greater than given length k?"
   ]
  },
  {
   "cell_type": "markdown",
   "id": "26ca11eb",
   "metadata": {},
   "source": [
    "2. Write a Python program for removing i-th character from a string?"
   ]
  },
  {
   "cell_type": "code",
   "execution_count": 2,
   "id": "8815b060",
   "metadata": {},
   "outputs": [
    {
     "name": "stdout",
     "output_type": "stream",
     "text": [
      "enter the stringlally\n",
      "enter the ith charcter3\n",
      "laly\n"
     ]
    }
   ],
   "source": [
    "def removeCharcter():\n",
    "    in_string=input('enter the string')\n",
    "    in_char_num=int(input('enter the ith charcter'))\n",
    "    out_string=''\n",
    "    for ele in range(len(in_string)):\n",
    "        if ele !=in_char_num:\n",
    "            out_string=out_string+in_string[ele]\n",
    "    print(out_string)\n",
    "\n",
    "removeCharcter()"
   ]
  },
  {
   "cell_type": "markdown",
   "id": "38c106af",
   "metadata": {},
   "source": [
    "3. Write a Python program to split and join a string?"
   ]
  },
  {
   "cell_type": "code",
   "execution_count": 2,
   "id": "c1852ee5",
   "metadata": {},
   "outputs": [
    {
     "name": "stdout",
     "output_type": "stream",
     "text": [
      "enter the stringineuron data science\n",
      "split string:['ineuron', 'data', 'science']\n"
     ]
    }
   ],
   "source": [
    "def splitJoinString():\n",
    "    in_string=input('enter the string')\n",
    "    print(f\"split string:{in_string.split(' ')}\")\n",
    "    \n",
    "splitJoinString()"
   ]
  },
  {
   "cell_type": "markdown",
   "id": "4173edbd",
   "metadata": {},
   "source": [
    "4. Write a Python to check if a given string is binary string or not?"
   ]
  },
  {
   "cell_type": "markdown",
   "id": "65043ca3",
   "metadata": {},
   "source": [
    "5. Write a Python program to find uncommon words from two Strings?"
   ]
  },
  {
   "cell_type": "code",
   "execution_count": 4,
   "id": "d1197b8a",
   "metadata": {},
   "outputs": [
    {
     "name": "stdout",
     "output_type": "stream",
     "text": [
      "enter the string 1krish ineuron\n",
      "enter the string 2sudhanshu ineuron\n",
      "{'sudhanshu', 'krish'}\n"
     ]
    }
   ],
   "source": [
    "def unCommonWord():\n",
    "    in_string_1=set(input(\"enter the string 1\").split(' '))\n",
    "    in_string_2=set(input(\"enter the string 2\").split(' '))\n",
    "    out_string =(in_string_1.union(in_string_2)).difference(in_string_1.intersection(in_string_2))\n",
    "    print(out_string)\n",
    "    \n",
    "unCommonWord()\n",
    "    "
   ]
  },
  {
   "cell_type": "markdown",
   "id": "a35ed4a1",
   "metadata": {},
   "source": [
    "6. Write a Python to find all duplicate characters in string?"
   ]
  },
  {
   "cell_type": "markdown",
   "id": "31c1ed2f",
   "metadata": {},
   "source": [
    "7. Write a Python Program to check if a string contains any special character?"
   ]
  },
  {
   "cell_type": "code",
   "execution_count": null,
   "id": "b811cd5e",
   "metadata": {},
   "outputs": [],
   "source": []
  }
 ],
 "metadata": {
  "kernelspec": {
   "display_name": "Python 3 (ipykernel)",
   "language": "python",
   "name": "python3"
  },
  "language_info": {
   "codemirror_mode": {
    "name": "ipython",
    "version": 3
   },
   "file_extension": ".py",
   "mimetype": "text/x-python",
   "name": "python",
   "nbconvert_exporter": "python",
   "pygments_lexer": "ipython3",
   "version": "3.9.7"
  }
 },
 "nbformat": 4,
 "nbformat_minor": 5
}
