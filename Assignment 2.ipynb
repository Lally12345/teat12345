{
 "cells": [
  {
   "cell_type": "markdown",
   "id": "1191e992",
   "metadata": {},
   "source": [
    "1.What are the two values of the Boolean data type? How do you write them?"
   ]
  },
  {
   "cell_type": "markdown",
   "id": "f168dc0b",
   "metadata": {},
   "source": [
    "Two values of the boolean data type one is True and other is False we use T and F and rest words are lowercase.the type() of both true and false is bool itis built in function meaning it is always available in python"
   ]
  },
  {
   "cell_type": "code",
   "execution_count": 2,
   "id": "f69de180",
   "metadata": {},
   "outputs": [
    {
     "name": "stdout",
     "output_type": "stream",
     "text": [
      "True <class 'bool'>\n",
      "False <class 'bool'>\n"
     ]
    }
   ],
   "source": [
    "a=True\n",
    "b=False\n",
    "print(a,type(a))\n",
    "print(b,type(b))"
   ]
  },
  {
   "cell_type": "code",
   "execution_count": null,
   "id": "f05ef34a",
   "metadata": {},
   "outputs": [],
   "source": [
    "# 2. What are the three different types of Boolean operators?"
   ]
  },
  {
   "cell_type": "markdown",
   "id": "366b3209",
   "metadata": {},
   "source": [
    "There are three type of boolean operator in python:-are, not, and example a>400 and a>600"
   ]
  },
  {
   "cell_type": "code",
   "execution_count": 9,
   "id": "82d2f4f1",
   "metadata": {},
   "outputs": [
    {
     "name": "stdout",
     "output_type": "stream",
     "text": [
      "True\n",
      "True\n",
      "False\n"
     ]
    }
   ],
   "source": [
    "a=400\n",
    "b=600\n",
    "print(a>200 and b>400)\n",
    "print(a>100 or b>50)\n",
    "print(not(a>15))"
   ]
  },
  {
   "cell_type": "markdown",
   "id": "cf8c6ba3",
   "metadata": {},
   "source": [
    "3. Make a list of each Boolean operator&#39;s truth tables (i.e. every possible combination of Boolean\n",
    "values for the operator and what it evaluate )."
   ]
  },
  {
   "cell_type": "markdown",
   "id": "784f1cd6",
   "metadata": {},
   "source": [
    "#### Truth Table for and operator\n",
    "\n",
    "True and True-->True\n",
    "True and False-->False\n",
    "False and True--.>False\n",
    "False and False-->False\n",
    "\n",
    "#### Truth Table for or operator\n",
    "True or True-->True\n",
    "True or False-->True\n",
    "False or True-->True\n",
    "False or False-->False\n",
    "\n",
    "#### Truth Table for not operator\n",
    "\n",
    "True not-->False\n",
    "False not-->True\n",
    "\n",
    "\n"
   ]
  },
  {
   "cell_type": "markdown",
   "id": "a0f39fb7",
   "metadata": {},
   "source": [
    "4. What are the values of the following expressions?\n",
    "(5>4)and(3==5)\n",
    "    not(5>4)\n",
    "    (5>4)or(3==5)\n",
    "    not(5>4)or(3==5)\n",
    "    (true and true)and(true==false)\n",
    "    (not false)or(not true)\n",
    "    "
   ]
  },
  {
   "cell_type": "code",
   "execution_count": 15,
   "id": "26ff0230",
   "metadata": {},
   "outputs": [
    {
     "name": "stdout",
     "output_type": "stream",
     "text": [
      "False\n",
      "False\n",
      "True\n",
      "False\n",
      "True\n",
      "True\n"
     ]
    },
    {
     "data": {
      "text/plain": [
       "False"
      ]
     },
     "execution_count": 15,
     "metadata": {},
     "output_type": "execute_result"
    }
   ],
   "source": [
    "print((5>4)and(3==5))\n",
    "print (not(5>4))\n",
    "print(5>4)or(3==5)\n",
    "print(not(5>4)or(3==5))\n",
    "print(True and True)and (True==False)\n",
    "print(not False)or (not True)\n",
    "\n"
   ]
  },
  {
   "cell_type": "markdown",
   "id": "82d4aa01",
   "metadata": {},
   "source": [
    "5. What are the six comparison operators?"
   ]
  },
  {
   "cell_type": "markdown",
   "id": "6d75a3bd",
   "metadata": {},
   "source": [
    "The six comparision operators are available in python are\n",
    "\n",
    "==, !=, <, >, <=, >="
   ]
  },
  {
   "cell_type": "markdown",
   "id": "2d4a070d",
   "metadata": {},
   "source": [
    "6. How do you tell the difference between the equal to and assignment operators?Describe a\n",
    "condition and when you would use one."
   ]
  },
  {
   "cell_type": "markdown",
   "id": "4a2b68b3",
   "metadata": {},
   "source": [
    "== is the equal operator that compares two values and evaluates to boolean, while = is the assignment operator that stores a value in a variable."
   ]
  },
  {
   "cell_type": "code",
   "execution_count": 18,
   "id": "67e83cc1",
   "metadata": {},
   "outputs": [
    {
     "name": "stdout",
     "output_type": "stream",
     "text": [
      "False\n"
     ]
    }
   ],
   "source": [
    "b=20\n",
    "if b==20:\n",
    "    print(b==6)"
   ]
  },
  {
   "cell_type": "markdown",
   "id": "68eecb69",
   "metadata": {},
   "source": [
    "7. Identify the three blocks in this code:\n",
    "spam = 0\n",
    "if spam == 10:\n",
    "print('eggs')\n",
    "if spam>5:\n",
    "    print('bacon')\n",
    "    else:\n",
    "        print('ham')\n",
    "        print('spam')\n",
    "        print('spam')\n",
    "        "
   ]
  },
  {
   "cell_type": "code",
   "execution_count": 20,
   "id": "2ce47d96",
   "metadata": {},
   "outputs": [
    {
     "name": "stdout",
     "output_type": "stream",
     "text": [
      "ham\n",
      "spam\n",
      "spam\n"
     ]
    }
   ],
   "source": [
    "spam=0\n",
    "if spam==10:\n",
    "    print('eggs')   #block #1\n",
    "if spam>5:\n",
    "    print('bacon')   ##Block #2\n",
    "else:\n",
    "    print('ham')   #Block #3\n",
    "print('spam')\n",
    "print('spam')"
   ]
  },
  {
   "cell_type": "markdown",
   "id": "73d63ca1",
   "metadata": {},
   "source": [
    "8. Write code that prints Hello if 1 is stored in spam, prints Howdy if 2 is stored in spam, and prints\n",
    "Greetings! if anything else is stored in spam."
   ]
  },
  {
   "cell_type": "code",
   "execution_count": 24,
   "id": "8bcc8a4f",
   "metadata": {},
   "outputs": [],
   "source": [
    "def spamCode(spam):\n",
    "    if spam==1:\n",
    "        print('Hello')  # Block #1\n",
    "    elif spam==2:\n",
    "        print('Howdy')  # Block #2\n",
    "    else:\n",
    "        print('Greetings')# Block #3\n",
    "        \n",
    "        "
   ]
  },
  {
   "cell_type": "code",
   "execution_count": 25,
   "id": "5e6c6c98",
   "metadata": {},
   "outputs": [
    {
     "name": "stdout",
     "output_type": "stream",
     "text": [
      "Hello\n",
      "Howdy\n",
      "Greetings\n"
     ]
    }
   ],
   "source": [
    "spamCode(1)\n",
    "spamCode(2)\n",
    "spamCode(3)"
   ]
  },
  {
   "cell_type": "code",
   "execution_count": null,
   "id": "b15c5943",
   "metadata": {},
   "outputs": [],
   "source": [
    "9.If your programme is stuck in an endless loop, what keys you’ll press?"
   ]
  },
  {
   "cell_type": "markdown",
   "id": "b2147be0",
   "metadata": {},
   "source": [
    "Ctrl+c"
   ]
  },
  {
   "cell_type": "markdown",
   "id": "15523210",
   "metadata": {},
   "source": [
    "10. How can you tell the difference between break and continue?"
   ]
  },
  {
   "cell_type": "markdown",
   "id": "44283618",
   "metadata": {},
   "source": [
    "Break statement stops the loop in which the statement is placed whereas the continue statement will move the execution to the start of the loop"
   ]
  },
  {
   "cell_type": "code",
   "execution_count": 26,
   "id": "61b1f85d",
   "metadata": {},
   "outputs": [
    {
     "name": "stdout",
     "output_type": "stream",
     "text": [
      "s\n",
      "t\n",
      "r\n",
      "the end\n"
     ]
    }
   ],
   "source": [
    "for val in 'string':       ##use of break statement\n",
    "    if val=='i':\n",
    "        break\n",
    "    print(val)\n",
    "    \n",
    "    \n",
    "print(\"the end\")    \n"
   ]
  },
  {
   "cell_type": "code",
   "execution_count": 28,
   "id": "33d27c6d",
   "metadata": {},
   "outputs": [
    {
     "name": "stdout",
     "output_type": "stream",
     "text": [
      "s\n",
      "t\n",
      "r\n",
      "n\n",
      "g\n",
      "the end\n"
     ]
    }
   ],
   "source": [
    "for val in 'string':         ##use of continue statement\n",
    "    if val=='i':\n",
    "        continue\n",
    "    print(val)\n",
    "    \n",
    "    \n",
    "print(\"the end\")    \n"
   ]
  },
  {
   "cell_type": "markdown",
   "id": "5b26afb5",
   "metadata": {},
   "source": [
    "11. In a for loop, what is the difference between range(10), range(0, 10), and range(0, 10, 1)?"
   ]
  },
  {
   "cell_type": "markdown",
   "id": "82b70bf4",
   "metadata": {},
   "source": [
    "1.The range(10) call range from 0 to 9 (but not include 10)\n",
    "2.The range(0,10) tells the loop at starts at 0\n",
    "3.The range(0,10)tells the loop to increase the variable by 1 on each iteration"
   ]
  },
  {
   "cell_type": "code",
   "execution_count": 29,
   "id": "0642e08c",
   "metadata": {},
   "outputs": [
    {
     "name": "stdout",
     "output_type": "stream",
     "text": [
      "0  1  2  3  4  5  6  7  8  9  \n"
     ]
    }
   ],
   "source": [
    "for i in range(10):\n",
    "    print(i,end=\"  \")\n",
    "print()    "
   ]
  },
  {
   "cell_type": "code",
   "execution_count": 30,
   "id": "c4998b45",
   "metadata": {},
   "outputs": [
    {
     "name": "stdout",
     "output_type": "stream",
     "text": [
      "sum of numbers: 45\n"
     ]
    }
   ],
   "source": [
    "sum=0\n",
    "for i in range(0,10):\n",
    "    sum=sum+i\n",
    "print(\"sum of numbers:\",sum)    "
   ]
  },
  {
   "cell_type": "code",
   "execution_count": 31,
   "id": "e7477872",
   "metadata": {},
   "outputs": [
    {
     "name": "stdout",
     "output_type": "stream",
     "text": [
      "sum of numbers: 45\n"
     ]
    }
   ],
   "source": [
    "sum=0\n",
    "for i in range(0,10,1):\n",
    "    sum=sum+i\n",
    "print(\"sum of numbers:\",sum)    "
   ]
  },
  {
   "cell_type": "markdown",
   "id": "a2cd6357",
   "metadata": {},
   "source": [
    "12. Write a short program that prints the numbers 1 to 10 using a for loop. Then write an equivalent\n",
    "program that prints the numbers 1 to 10 using a while loop."
   ]
  },
  {
   "cell_type": "markdown",
   "id": "d6306da4",
   "metadata": {},
   "source": [
    "13. If you had a function named bacon() inside a module named spam, how would you call it after\n",
    "importing spam?"
   ]
  },
  {
   "cell_type": "markdown",
   "id": "6decdbfb",
   "metadata": {},
   "source": [
    "The function can be called with spam.bacon()"
   ]
  },
  {
   "cell_type": "code",
   "execution_count": null,
   "id": "6cc8146b",
   "metadata": {},
   "outputs": [],
   "source": []
  }
 ],
 "metadata": {
  "kernelspec": {
   "display_name": "Python 3 (ipykernel)",
   "language": "python",
   "name": "python3"
  },
  "language_info": {
   "codemirror_mode": {
    "name": "ipython",
    "version": 3
   },
   "file_extension": ".py",
   "mimetype": "text/x-python",
   "name": "python",
   "nbconvert_exporter": "python",
   "pygments_lexer": "ipython3",
   "version": "3.9.7"
  }
 },
 "nbformat": 4,
 "nbformat_minor": 5
}
