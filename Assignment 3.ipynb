{
 "cells": [
  {
   "cell_type": "markdown",
   "id": "0ac40b2e",
   "metadata": {},
   "source": [
    "1. Why are functions advantageous to have in your programs?"
   ]
  },
  {
   "cell_type": "markdown",
   "id": "e25da5be",
   "metadata": {},
   "source": [
    "The advantage of using functions are:\n",
    "  \n",
    "1.Reducing duplication of code\n",
    "2.increases program readability\n",
    "3.reduces chances of error\n",
    "4.Divide a complex problem into simpeler one\n",
    "5.Modifying a program becomes easier by using function.\n"
   ]
  },
  {
   "cell_type": "markdown",
   "id": "62a58b4f",
   "metadata": {},
   "source": [
    "2. When does the code in a function run: when its specified or when it called?"
   ]
  },
  {
   "cell_type": "markdown",
   "id": "1c35f6af",
   "metadata": {},
   "source": [
    "The code is a function executes when the function is called but not when the function is specified when the function is called programm,leaves the current section of code and begin to execute the first line inside the function.example"
   ]
  },
  {
   "cell_type": "code",
   "execution_count": 6,
   "id": "4a55e6fa",
   "metadata": {},
   "outputs": [
    {
     "name": "stdout",
     "output_type": "stream",
     "text": [
      "lally ineuron\n",
      "amita ineuron\n",
      "puja ineuron\n"
     ]
    }
   ],
   "source": [
    "def my_function(fname):\n",
    "    print(fname + \" ineuron\")\n",
    "my_function('lally')\n",
    "my_function('amita')\n",
    "my_function('puja')"
   ]
  },
  {
   "cell_type": "markdown",
   "id": "8d5e2027",
   "metadata": {},
   "source": [
    "3. What statement creates a function?"
   ]
  },
  {
   "cell_type": "markdown",
   "id": "65d672ee",
   "metadata": {},
   "source": [
    "The def statemnt creates a function\n",
    "A statement creates a new functon ,specifying its name,parameter ,and the statement it executes"
   ]
  },
  {
   "cell_type": "code",
   "execution_count": 7,
   "id": "9913b7ee",
   "metadata": {},
   "outputs": [
    {
     "name": "stdout",
     "output_type": "stream",
     "text": [
      "lally ineuron\n",
      "amita ineuron\n",
      "puja ineuron\n"
     ]
    }
   ],
   "source": [
    "def my_function(fname):\n",
    "    print(fname + \" ineuron\")\n",
    "my_function('lally')\n",
    "my_function('amita')\n",
    "my_function('puja')"
   ]
  },
  {
   "cell_type": "markdown",
   "id": "6714ed54",
   "metadata": {},
   "source": [
    "4. What is the difference between a function and a function call?"
   ]
  },
  {
   "cell_type": "markdown",
   "id": "a1f6998c",
   "metadata": {},
   "source": [
    "A function is a piece of code which enhanced your program means piece of code need not be written again function call means calling the function."
   ]
  },
  {
   "cell_type": "code",
   "execution_count": 8,
   "id": "3c03465c",
   "metadata": {},
   "outputs": [
    {
     "data": {
      "text/plain": [
       "16"
      ]
     },
     "execution_count": 8,
     "metadata": {},
     "output_type": "execute_result"
    }
   ],
   "source": [
    "#function\n",
    "def square(x):\n",
    "    return x*x\n",
    "#function call\n",
    "(square(4))"
   ]
  },
  {
   "cell_type": "markdown",
   "id": "1e34cf2c",
   "metadata": {},
   "source": [
    "5. How many global scopes are there in a Python program? How many local scopes?"
   ]
  },
  {
   "cell_type": "markdown",
   "id": "a91abf59",
   "metadata": {},
   "source": [
    "There is one local scopes python and one global scope python"
   ]
  },
  {
   "cell_type": "code",
   "execution_count": 10,
   "id": "6dbb2bae",
   "metadata": {},
   "outputs": [
    {
     "name": "stdout",
     "output_type": "stream",
     "text": [
      "200\n"
     ]
    }
   ],
   "source": [
    "#example for local scope\n",
    "def myfunc():\n",
    "    x=200\n",
    "    def myinnerfunc():\n",
    "        print(x)\n",
    "    myinnerfunc()\n",
    "myfunc()    "
   ]
  },
  {
   "cell_type": "code",
   "execution_count": 11,
   "id": "d8b239da",
   "metadata": {},
   "outputs": [
    {
     "name": "stdout",
     "output_type": "stream",
     "text": [
      "400\n",
      "400\n"
     ]
    }
   ],
   "source": [
    "#example for global scope\n",
    "x=400\n",
    "\n",
    "def myfunc():\n",
    "    print(x)\n",
    "\n",
    "myfunc() \n",
    "print(x)"
   ]
  },
  {
   "cell_type": "markdown",
   "id": "abcf0dce",
   "metadata": {},
   "source": [
    "6. What happens to variables in a local scope when the function call returns?"
   ]
  },
  {
   "cell_type": "markdown",
   "id": "c7da3fb4",
   "metadata": {},
   "source": [
    "When the execution of the function returns the local variables are destroyed."
   ]
  },
  {
   "cell_type": "markdown",
   "id": "28776d81",
   "metadata": {},
   "source": [
    "7. What is the concept of a return value? Is it possible to have a return value in an expression?"
   ]
  },
  {
   "cell_type": "markdown",
   "id": "d3440012",
   "metadata": {},
   "source": [
    "A return statement is used to end the execution of the function call and return to the caller.\n",
    "The statement after the return statement are not executed."
   ]
  },
  {
   "cell_type": "markdown",
   "id": "50191513",
   "metadata": {},
   "source": [
    "8. If a function does not have a return statement, what is the return value of a call to that function?"
   ]
  },
  {
   "cell_type": "markdown",
   "id": "f238d56e",
   "metadata": {},
   "source": [
    "If there is no return statement for a function its return value is none.the function always returns none."
   ]
  },
  {
   "cell_type": "markdown",
   "id": "f41ef568",
   "metadata": {},
   "source": [
    "9. How do you make a function variable refer to the global variable?"
   ]
  },
  {
   "cell_type": "markdown",
   "id": "841a2311",
   "metadata": {},
   "source": [
    "When you create a variable inside a function that variables is local,but you can create a global variable inside a function you can use global keyword."
   ]
  },
  {
   "cell_type": "markdown",
   "id": "c104b74b",
   "metadata": {},
   "source": [
    "10. What is the data type of None?"
   ]
  },
  {
   "cell_type": "markdown",
   "id": "c6482363",
   "metadata": {},
   "source": [
    "The none keyword is used to define null value.None is a data type of its own none type."
   ]
  },
  {
   "cell_type": "markdown",
   "id": "174951a8",
   "metadata": {},
   "source": [
    "11. What does the sentence import areallyourpetsnamederic do?"
   ]
  },
  {
   "cell_type": "markdown",
   "id": "1553134f",
   "metadata": {},
   "source": [
    "The import statement import a  module named areallyourpetsnamederic"
   ]
  },
  {
   "cell_type": "markdown",
   "id": "54fd8c24",
   "metadata": {},
   "source": [
    "12. If you had a bacon() feature in a spam module, what would you call it after importing spam?"
   ]
  },
  {
   "cell_type": "markdown",
   "id": "028717b3",
   "metadata": {},
   "source": [
    "The function can be called spam.bacon()"
   ]
  },
  {
   "cell_type": "markdown",
   "id": "06be61a1",
   "metadata": {},
   "source": [
    "13. What can you do to save a programme from crashing if it encounters an error?"
   ]
  },
  {
   "cell_type": "markdown",
   "id": "d373e5ce",
   "metadata": {},
   "source": [
    "When it encounters error the control is passed to the except block,try running the program and it should throw an error message instead of crashing the programm."
   ]
  },
  {
   "cell_type": "markdown",
   "id": "ce3218a0",
   "metadata": {},
   "source": [
    "14. What is the purpose of the try clause? What is the purpose of the except clause?"
   ]
  },
  {
   "cell_type": "markdown",
   "id": "6cc0c4fb",
   "metadata": {},
   "source": [
    "The try block lets you test a block of code for errors. The except block lets you handle the error."
   ]
  },
  {
   "cell_type": "code",
   "execution_count": null,
   "id": "770755f7",
   "metadata": {},
   "outputs": [],
   "source": []
  }
 ],
 "metadata": {
  "kernelspec": {
   "display_name": "Python 3 (ipykernel)",
   "language": "python",
   "name": "python3"
  },
  "language_info": {
   "codemirror_mode": {
    "name": "ipython",
    "version": 3
   },
   "file_extension": ".py",
   "mimetype": "text/x-python",
   "name": "python",
   "nbconvert_exporter": "python",
   "pygments_lexer": "ipython3",
   "version": "3.9.7"
  }
 },
 "nbformat": 4,
 "nbformat_minor": 5
}
