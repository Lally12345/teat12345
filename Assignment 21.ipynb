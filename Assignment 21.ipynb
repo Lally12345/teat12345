{
 "cells": [
  {
   "cell_type": "markdown",
   "id": "e1631de2",
   "metadata": {},
   "source": [
    "1. Add the current date to the text file today.txt as a string."
   ]
  },
  {
   "cell_type": "code",
   "execution_count": 1,
   "id": "219b4a9a",
   "metadata": {},
   "outputs": [
    {
     "name": "stdout",
     "output_type": "stream",
     "text": [
      "29-08-22\n"
     ]
    }
   ],
   "source": [
    "import datetime\n",
    "file=open('today.txt','w')\n",
    "file.write(datetime.datetime.now().strftime(\"%d-%m-%y\"))\n",
    "file.close()\n",
    "file=open('today.txt','r')\n",
    "print(file.read())\n",
    "file.close()"
   ]
  },
  {
   "cell_type": "markdown",
   "id": "e309a82d",
   "metadata": {},
   "source": [
    "2. Read the text file today.txt into the string today_string"
   ]
  },
  {
   "cell_type": "code",
   "execution_count": 3,
   "id": "a5b35fcb",
   "metadata": {},
   "outputs": [
    {
     "name": "stdout",
     "output_type": "stream",
     "text": [
      "29-08-22\n"
     ]
    }
   ],
   "source": [
    "file=open('today.txt','r')\n",
    "today_string=file.read()\n",
    "print(today_string)"
   ]
  },
  {
   "cell_type": "markdown",
   "id": "6810fd7b",
   "metadata": {},
   "source": [
    "3. Parse the date from today_string."
   ]
  },
  {
   "cell_type": "code",
   "execution_count": null,
   "id": "6be73911",
   "metadata": {},
   "outputs": [],
   "source": [
    "from datetime import datetime\n",
    "parsed_data=datetime.srtptime(today_string,'%d-%m-%y')\n",
    "print(parsed_data)"
   ]
  },
  {
   "cell_type": "markdown",
   "id": "efdbaee9",
   "metadata": {},
   "source": [
    "4. List the files in your current directory"
   ]
  },
  {
   "cell_type": "code",
   "execution_count": 7,
   "id": "dfe72d0a",
   "metadata": {},
   "outputs": [
    {
     "name": "stdout",
     "output_type": "stream",
     "text": [
      " home work while loop .ipynb\n",
      "application_log.txt\n",
      "Assignment 1.ipynb\n",
      "Assignment 10.ipynb\n",
      "Assignment 11.ipynb\n",
      "Assignment 12.ipynb\n",
      "Assignment 13.ipynb\n",
      "Assignment 14.ipynb\n",
      "Assignment 15.ipynb\n",
      "Assignment 16.ipynb\n",
      "Assignment 17.ipynb\n",
      "Assignment 18.ipynb\n",
      "Assignment 19.ipynb\n",
      "Assignment 2.ipynb\n",
      "Assignment 20.ipynb\n",
      "Assignment 21.ipynb\n",
      "Assignment 3.ipynb\n",
      "Assignment 4.ipynb\n",
      "Assignment 5.ipynb\n",
      "Assignment 6.ipynb\n",
      "Assignment 8.ipynb\n",
      "Assignment 9.ipynb\n",
      "Assignment task 24th July.ipynb\n",
      "Assignment Task 31th July.ipynb\n",
      "book.db\n",
      "books.csv\n",
      "haberman (1).csv\n",
      "haberman 2.csv\n",
      "haberman.csv\n",
      "home work for loop.ipynb\n",
      "home work in python string jumping and direction.ipynb\n",
      "home work list tuple set and dict.ipynb\n",
      "lally1.txt\n",
      "Practice day1.ipynb\n",
      "practice string direction.ipynb\n",
      "Programming Assignment 1.ipynb\n",
      "Programming Assignment 2.ipynb\n",
      "Programming Assignment 3.ipynb\n",
      "sales_data_final.csv\n",
      "test.json\n",
      "test.lally\n",
      "test.txt\n",
      "test1.txt\n",
      "test5.txt\n",
      "text2.txt\n",
      "today.txt\n",
      "Untitled.ipynb\n",
      "untitled.txt\n",
      " home work while loop -checkpoint.ipynb\n",
      "Assignment 1-checkpoint.ipynb\n",
      "Assignment 10-checkpoint.ipynb\n",
      "Assignment 11-checkpoint.ipynb\n",
      "Assignment 12-checkpoint.ipynb\n",
      "Assignment 13-checkpoint.ipynb\n",
      "Assignment 14-checkpoint.ipynb\n",
      "Assignment 15-checkpoint.ipynb\n",
      "Assignment 16-checkpoint.ipynb\n",
      "Assignment 17-checkpoint.ipynb\n",
      "Assignment 18-checkpoint.ipynb\n",
      "Assignment 19-checkpoint.ipynb\n",
      "Assignment 2-checkpoint.ipynb\n",
      "Assignment 20-checkpoint.ipynb\n",
      "Assignment 21-checkpoint.ipynb\n",
      "Assignment 3-checkpoint.ipynb\n",
      "Assignment 4-checkpoint.ipynb\n",
      "Assignment 5-checkpoint.ipynb\n",
      "Assignment 6-checkpoint.ipynb\n",
      "Assignment 8-checkpoint.ipynb\n",
      "Assignment 9-checkpoint.ipynb\n",
      "Assignment task 24th July-checkpoint.ipynb\n",
      "Assignment Task 31th July-checkpoint.ipynb\n",
      "home work for loop-checkpoint.ipynb\n",
      "home work in python string jumping and direction-checkpoint.ipynb\n",
      "home work list tuple set and dict-checkpoint.ipynb\n",
      "Practice day1-checkpoint.ipynb\n",
      "practice string direction-checkpoint.ipynb\n",
      "Programming Assignment 1-checkpoint.ipynb\n",
      "Programming Assignment 2-checkpoint.ipynb\n",
      "Programming Assignment 3-checkpoint.ipynb\n",
      "Untitled-checkpoint.ipynb\n",
      "15th may python string direction slicing method.ipynb\n",
      "15th may string manipulation and direction jump.ipynb\n",
      "21th may python basic list and tuple set and dictionary.ipynb\n",
      "28th may python for loop.ipynb\n",
      "29th may function of while loop.ipynb\n",
      "conditional sentence if else and eseif.ipynb\n",
      "DATA VISUALISATION  DAY2.ipynb\n",
      "DATA VISUALISATION.ipynb\n",
      "Exception Handling Revision.ipynb\n",
      "Exception handling.ipynb\n",
      "Flipcart Webpage Scrapper.ipynb\n",
      "function.ipynb\n",
      "Iterator ,generator ,file , map ,reduce.ipynb\n",
      "Numpy day 2.ipynb\n",
      "Pandas day 2.ipynb\n",
      "Pandas day 3 and Numpy day1.ipynb\n",
      "Pandas.ipynb\n",
      "Untitled.ipynb\n",
      "Untitled1.ipynb\n",
      "Untitled2.ipynb\n",
      "15th may python string direction slicing method-checkpoint.ipynb\n",
      "15th may string manipulation and direction jump-checkpoint.ipynb\n",
      "21th may python basic list and tuple set and dictionary-checkpoint.ipynb\n",
      "28th may python for loop-checkpoint.ipynb\n",
      "29th may function of while loop-checkpoint.ipynb\n",
      "conditional sentence if else and eseif-checkpoint.ipynb\n",
      "DATA VISUALISATION  DAY2-checkpoint.ipynb\n",
      "DATA VISUALISATION-checkpoint.ipynb\n",
      "Exception Handling Revision-checkpoint.ipynb\n",
      "Exception handling-checkpoint.ipynb\n",
      "Flipcart Webpage Scrapper-checkpoint.ipynb\n",
      "function-checkpoint.ipynb\n",
      "Iterator ,generator ,file , map ,reduce-checkpoint.ipynb\n",
      "Numpy day 2-checkpoint.ipynb\n",
      "Pandas day 2-checkpoint.ipynb\n",
      "Pandas day 3 and Numpy day1-checkpoint.ipynb\n",
      "Pandas-checkpoint.ipynb\n",
      "Untitled-checkpoint.ipynb\n",
      "Untitled1-checkpoint.ipynb\n",
      "Untitled2-checkpoint.ipynb\n"
     ]
    }
   ],
   "source": [
    "import os\n",
    "for folders,subfolders ,files in os.walk(os.getcwd()):\n",
    "    for file in files:\n",
    "        print(file)"
   ]
  },
  {
   "cell_type": "markdown",
   "id": "e034fa45",
   "metadata": {},
   "source": [
    "5. Create a list of all of the files in your parent directory (minimum five files should be available)."
   ]
  },
  {
   "cell_type": "code",
   "execution_count": 8,
   "id": "39c97c44",
   "metadata": {},
   "outputs": [
    {
     "data": {
      "text/plain": [
       "[' home work while loop .ipynb',\n",
       " '.ipynb_checkpoints',\n",
       " 'application_log.txt',\n",
       " 'Assignment 1.ipynb',\n",
       " 'Assignment 10.ipynb',\n",
       " 'Assignment 11.ipynb',\n",
       " 'Assignment 12.ipynb',\n",
       " 'Assignment 13.ipynb',\n",
       " 'Assignment 14.ipynb',\n",
       " 'Assignment 15.ipynb',\n",
       " 'Assignment 16.ipynb',\n",
       " 'Assignment 17.ipynb',\n",
       " 'Assignment 18.ipynb',\n",
       " 'Assignment 19.ipynb',\n",
       " 'Assignment 2.ipynb',\n",
       " 'Assignment 20.ipynb',\n",
       " 'Assignment 21.ipynb',\n",
       " 'Assignment 3.ipynb',\n",
       " 'Assignment 4.ipynb',\n",
       " 'Assignment 5.ipynb',\n",
       " 'Assignment 6.ipynb',\n",
       " 'Assignment 8.ipynb',\n",
       " 'Assignment 9.ipynb',\n",
       " 'Assignment task 24th July.ipynb',\n",
       " 'Assignment Task 31th July.ipynb',\n",
       " 'book.db',\n",
       " 'books.csv',\n",
       " 'haberman (1).csv',\n",
       " 'haberman 2.csv',\n",
       " 'haberman.csv',\n",
       " 'home work for loop.ipynb',\n",
       " 'home work in python string jumping and direction.ipynb',\n",
       " 'home work list tuple set and dict.ipynb',\n",
       " 'iNeuron',\n",
       " 'lally1.txt',\n",
       " 'Practice day1.ipynb',\n",
       " 'practice string direction.ipynb',\n",
       " 'Programming Assignment 1.ipynb',\n",
       " 'Programming Assignment 2.ipynb',\n",
       " 'Programming Assignment 3.ipynb',\n",
       " 'sales_data_final.csv',\n",
       " 'test.json',\n",
       " 'test.lally',\n",
       " 'test.txt',\n",
       " 'test1.txt',\n",
       " 'test5.txt',\n",
       " 'text2.txt',\n",
       " 'today.txt',\n",
       " 'Untitled.ipynb',\n",
       " 'untitled.txt']"
      ]
     },
     "execution_count": 8,
     "metadata": {},
     "output_type": "execute_result"
    }
   ],
   "source": [
    "import os \n",
    "os.listdir()"
   ]
  },
  {
   "cell_type": "markdown",
   "id": "ad3f9bf3",
   "metadata": {},
   "source": [
    "6. Use multiprocessing to create three separate processes. Make each one wait a random number of\n",
    "seconds between one and five, print the current time, and then exit."
   ]
  },
  {
   "cell_type": "markdown",
   "id": "f368b085",
   "metadata": {},
   "source": [
    "7. Create a date object of your day of birth."
   ]
  },
  {
   "cell_type": "code",
   "execution_count": null,
   "id": "9cd122df",
   "metadata": {},
   "outputs": [],
   "source": [
    "from datetime import datetime\n",
    "my_dob = datetime.strptime('18/5/1996','%d/%m/%y')\n",
    "print(my_dob, type(my_dob))"
   ]
  },
  {
   "cell_type": "markdown",
   "id": "c5ad8b50",
   "metadata": {},
   "source": [
    "8. What day of the week was your day of birth?"
   ]
  },
  {
   "cell_type": "code",
   "execution_count": 12,
   "id": "398aee4d",
   "metadata": {},
   "outputs": [
    {
     "data": {
      "text/plain": [
       "'Saturday'"
      ]
     },
     "execution_count": 12,
     "metadata": {},
     "output_type": "execute_result"
    }
   ],
   "source": [
    "from datetime import datetime\n",
    "my_dob = datetime(1996,5,18)\n",
    "my_dob.strftime(\"%A\")"
   ]
  },
  {
   "cell_type": "markdown",
   "id": "ba588c31",
   "metadata": {},
   "source": [
    "9. When will you be (or when were you) 10,000 days old?"
   ]
  }
 ],
 "metadata": {
  "kernelspec": {
   "display_name": "Python 3 (ipykernel)",
   "language": "python",
   "name": "python3"
  },
  "language_info": {
   "codemirror_mode": {
    "name": "ipython",
    "version": 3
   },
   "file_extension": ".py",
   "mimetype": "text/x-python",
   "name": "python",
   "nbconvert_exporter": "python",
   "pygments_lexer": "ipython3",
   "version": "3.9.7"
  }
 },
 "nbformat": 4,
 "nbformat_minor": 5
}
