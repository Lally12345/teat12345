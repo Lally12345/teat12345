{
 "cells": [
  {
   "cell_type": "markdown",
   "id": "327ce78c",
   "metadata": {},
   "source": [
    "## 1. In the below elements which of them are values or an expression? eg:- values can be\n",
    "integer or string and expressions will be mathematical operators.\n",
    "\n"
   ]
  },
  {
   "cell_type": "markdown",
   "id": "3b8bb65d",
   "metadata": {},
   "source": [
    "*:expression\n",
    "'hello': value\n",
    " -87.8: value\n",
    " -: expression\n",
    " /: expression\n",
    " +: expression\n",
    " 6: value   "
   ]
  },
  {
   "cell_type": "markdown",
   "id": "07ce172e",
   "metadata": {},
   "source": [
    "2. What is the difference between string and variable?"
   ]
  },
  {
   "cell_type": "markdown",
   "id": "d1fced3a",
   "metadata": {},
   "source": [
    "variables are symbols that you can use to store data in a program and string is a type of information yo would store in a variable"
   ]
  },
  {
   "cell_type": "markdown",
   "id": "0c01d14b",
   "metadata": {},
   "source": [
    "3. Describe three different data types."
   ]
  },
  {
   "cell_type": "markdown",
   "id": "cbea4a54",
   "metadata": {},
   "source": [
    "1:integer\n",
    "2:floating point number\n",
    "3:boolean    "
   ]
  },
  {
   "cell_type": "markdown",
   "id": "fcef8d8f",
   "metadata": {},
   "source": [
    "4. What is an expression made up of? What do all expressions do?"
   ]
  },
  {
   "cell_type": "markdown",
   "id": "ed022a5e",
   "metadata": {},
   "source": [
    "An expression made up of values,variables,mathematical operators and operands.python interpreter evaluates the expression and display the values"
   ]
  },
  {
   "cell_type": "markdown",
   "id": "e07451c1",
   "metadata": {},
   "source": [
    "5. This assignment statements, like spam = 10. What is the difference between an\n",
    "expression and a statement?"
   ]
  },
  {
   "cell_type": "markdown",
   "id": "0cd596fb",
   "metadata": {},
   "source": [
    "Statement represent an action or command and the expression represent the given value equal to 10"
   ]
  },
  {
   "cell_type": "markdown",
   "id": "21328a5d",
   "metadata": {},
   "source": [
    "6. After running the following code, what does the variable bacon contain?\n",
    "bacon = 22\n",
    "bacon + 1"
   ]
  },
  {
   "cell_type": "code",
   "execution_count": 2,
   "id": "8755d22a",
   "metadata": {},
   "outputs": [
    {
     "data": {
      "text/plain": [
       "23"
      ]
     },
     "execution_count": 2,
     "metadata": {},
     "output_type": "execute_result"
    }
   ],
   "source": [
    "bacon=22\n",
    "bacon +1"
   ]
  },
  {
   "cell_type": "markdown",
   "id": "f4885068",
   "metadata": {},
   "source": [
    "7. What should the values of the following two terms be?\n",
    "\n",
    "'spam'+'spamspam'\n",
    "'spam'*3\n"
   ]
  },
  {
   "cell_type": "code",
   "execution_count": 4,
   "id": "3c6768be",
   "metadata": {},
   "outputs": [
    {
     "data": {
      "text/plain": [
       "'spamspamspam'"
      ]
     },
     "execution_count": 4,
     "metadata": {},
     "output_type": "execute_result"
    }
   ],
   "source": [
    "'spam'+'spamspam'"
   ]
  },
  {
   "cell_type": "code",
   "execution_count": 5,
   "id": "50a860ce",
   "metadata": {},
   "outputs": [
    {
     "data": {
      "text/plain": [
       "'spamspamspam'"
      ]
     },
     "execution_count": 5,
     "metadata": {},
     "output_type": "execute_result"
    }
   ],
   "source": [
    "'spam'*3"
   ]
  },
  {
   "cell_type": "markdown",
   "id": "cc7bceab",
   "metadata": {},
   "source": [
    "8. Why is eggs a valid variable name while 100 is invalid?"
   ]
  },
  {
   "cell_type": "markdown",
   "id": "044b0a8b",
   "metadata": {},
   "source": [
    "Because variable names cannot begin with a numbr,a variable name must start with a letter or the underscore character"
   ]
  },
  {
   "cell_type": "markdown",
   "id": "fdd775eb",
   "metadata": {},
   "source": [
    "9. What three functions can be used to get the integer, floating-point number, or string\n",
    "version of a value?"
   ]
  },
  {
   "cell_type": "markdown",
   "id": "b8a0ac51",
   "metadata": {},
   "source": [
    "1:integer-int()\n",
    "2:floating point number-float()\n",
    "3:string-str()    \n"
   ]
  },
  {
   "cell_type": "markdown",
   "id": "f43c835b",
   "metadata": {},
   "source": [
    "10. Why does this expression cause an error? How can you fix it?\n",
    "'i have eaten'+99+'burritos'"
   ]
  },
  {
   "cell_type": "markdown",
   "id": "1499fb8a",
   "metadata": {},
   "source": [
    "Because 99 is an integer and only string can be concatenated to  the other stringwith the + operator.\n",
    "the correct way is 'i have eaten'+str(99)+'burritos' "
   ]
  },
  {
   "cell_type": "code",
   "execution_count": null,
   "id": "35f12386",
   "metadata": {},
   "outputs": [],
   "source": []
  }
 ],
 "metadata": {
  "kernelspec": {
   "display_name": "Python 3 (ipykernel)",
   "language": "python",
   "name": "python3"
  },
  "language_info": {
   "codemirror_mode": {
    "name": "ipython",
    "version": 3
   },
   "file_extension": ".py",
   "mimetype": "text/x-python",
   "name": "python",
   "nbconvert_exporter": "python",
   "pygments_lexer": "ipython3",
   "version": "3.9.7"
  }
 },
 "nbformat": 4,
 "nbformat_minor": 5
}
