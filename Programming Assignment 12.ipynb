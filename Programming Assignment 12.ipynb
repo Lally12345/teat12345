{
 "cells": [
  {
   "cell_type": "markdown",
   "id": "98550186",
   "metadata": {},
   "source": [
    "1. Write a Python program to Extract Unique values dictionary values?"
   ]
  },
  {
   "cell_type": "code",
   "execution_count": 1,
   "id": "2f30eb92",
   "metadata": {},
   "outputs": [
    {
     "name": "stdout",
     "output_type": "stream",
     "text": [
      "dict_values(['Lally', 'puja', 'rupali', 'amita'])\n",
      "unique values:['Lally', 'rupali', 'puja', 'amita']\n"
     ]
    }
   ],
   "source": [
    "in_dict={1:'Lally',2:'puja',3:'rupali',4:'amita'}\n",
    "print(in_dict.values())\n",
    "print(f'unique values:{list(set(in_dict.values()))}')"
   ]
  },
  {
   "cell_type": "markdown",
   "id": "acd779ce",
   "metadata": {},
   "source": [
    "2. Write a Python program to find the sum of all items in a dictionary?"
   ]
  },
  {
   "cell_type": "code",
   "execution_count": 2,
   "id": "a0ccec54",
   "metadata": {},
   "outputs": [
    {
     "name": "stdout",
     "output_type": "stream",
     "text": [
      "sum of All items: 250\n"
     ]
    }
   ],
   "source": [
    "in_dict={'A':10,'M':20,'P':50,'H':80,'U':90}\n",
    "print('sum of All items:',sum(in_dict.values()))"
   ]
  },
  {
   "cell_type": "markdown",
   "id": "49df4c35",
   "metadata": {},
   "source": [
    "3. Write a Python program to Merging two Dictionaries?"
   ]
  },
  {
   "cell_type": "code",
   "execution_count": 3,
   "id": "498f610a",
   "metadata": {},
   "outputs": [
    {
     "name": "stdout",
     "output_type": "stream",
     "text": [
      "{'course_name': 'ineuron', 'course_instructors': ['sudhanshu', 'krish']}\n"
     ]
    }
   ],
   "source": [
    "course_details={\n",
    "    'course_name':'ineuron'\n",
    "}\n",
    "instructors={\n",
    "    'course_instructors':['sudhanshu','krish']\n",
    "}\n",
    "course_details.update(instructors)\n",
    "print(course_details)"
   ]
  },
  {
   "cell_type": "markdown",
   "id": "b5d46753",
   "metadata": {},
   "source": [
    "4. Write a Python program to convert key-values list to flat dictionary?"
   ]
  },
  {
   "cell_type": "code",
   "execution_count": 4,
   "id": "7127ca51",
   "metadata": {},
   "outputs": [
    {
     "name": "stdout",
     "output_type": "stream",
     "text": [
      "{'A': 10, 'B': 20, 'C': 30, 'D': 40, 'E': 60, 'F': 90}\n"
     ]
    }
   ],
   "source": [
    "in_list=[('A',10),('B',20),('C',30),('D',40),('E',60),('F',90)]\n",
    "dict(in_list)\n",
    "\n",
    "out_dict={}\n",
    "for ele in in_list:\n",
    "    out_dict[ele[0]]=ele[1]\n",
    "print(out_dict)"
   ]
  },
  {
   "cell_type": "markdown",
   "id": "47812190",
   "metadata": {},
   "source": [
    "5. Write a Python program to insertion at the beginning in OrderedDict?"
   ]
  },
  {
   "cell_type": "markdown",
   "id": "06b457d4",
   "metadata": {},
   "source": [
    "6. Write a Python program to check order of character in string using OrderedDict()?6. Write a Python program to check order of character in string using OrderedDict()?"
   ]
  },
  {
   "cell_type": "markdown",
   "id": "2b7caa0e",
   "metadata": {},
   "source": [
    "7. Write a Python program to sort Python Dictionaries by Key or Value?"
   ]
  },
  {
   "cell_type": "code",
   "execution_count": null,
   "id": "7209e8a5",
   "metadata": {},
   "outputs": [],
   "source": []
  }
 ],
 "metadata": {
  "kernelspec": {
   "display_name": "Python 3 (ipykernel)",
   "language": "python",
   "name": "python3"
  },
  "language_info": {
   "codemirror_mode": {
    "name": "ipython",
    "version": 3
   },
   "file_extension": ".py",
   "mimetype": "text/x-python",
   "name": "python",
   "nbconvert_exporter": "python",
   "pygments_lexer": "ipython3",
   "version": "3.9.7"
  }
 },
 "nbformat": 4,
 "nbformat_minor": 5
}
