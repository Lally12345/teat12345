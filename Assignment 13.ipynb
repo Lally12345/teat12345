{
 "cells": [
  {
   "cell_type": "markdown",
   "id": "40fb11bd",
   "metadata": {},
   "source": [
    "1. What advantages do Excel spreadsheets have over CSV spreadsheets?"
   ]
  },
  {
   "cell_type": "markdown",
   "id": "85424523",
   "metadata": {},
   "source": [
    "Excel is more superior when compared with csv file format , csv consumes less amount of file size when the user is importing the data."
   ]
  },
  {
   "cell_type": "markdown",
   "id": "5d8d4ed6",
   "metadata": {},
   "source": [
    "2.What do you pass to csv.reader() and csv.writer() to create reader and writer objects?"
   ]
  },
  {
   "cell_type": "markdown",
   "id": "6ad01ebe",
   "metadata": {},
   "source": [
    "3. What modes do File objects for reader and writer objects need to be opened in?"
   ]
  },
  {
   "cell_type": "markdown",
   "id": "d9f00e41",
   "metadata": {},
   "source": [
    "for csv.reader(iterable_file_object) this object need to be opened in read mode\n",
    "whereas for csv.writer(iterable_file_object) this object need to be opened in write mode"
   ]
  },
  {
   "cell_type": "markdown",
   "id": "4445c408",
   "metadata": {},
   "source": [
    "4. What method takes a list argument and writes it to a CSV file?"
   ]
  },
  {
   "cell_type": "markdown",
   "id": "992ddf86",
   "metadata": {},
   "source": [
    "These two methods are\n",
    "Writerow()\n",
    "and Writerows()."
   ]
  },
  {
   "cell_type": "markdown",
   "id": "b1678d16",
   "metadata": {},
   "source": [
    "5. What do the keyword arguments delimiter and line terminator do?"
   ]
  },
  {
   "cell_type": "markdown",
   "id": "5518d868",
   "metadata": {},
   "source": [
    "First Name,Last Name\n",
    "Lally, Pradhan\n",
    "\n",
    "here ',' is a delimeter"
   ]
  },
  {
   "cell_type": "markdown",
   "id": "49a736fc",
   "metadata": {},
   "source": [
    "6. What function takes a string of JSON data and returns a Python data structure?"
   ]
  },
  {
   "cell_type": "markdown",
   "id": "90e2210a",
   "metadata": {},
   "source": [
    "loads() function takes a string of JSON data and returns a Python data structure"
   ]
  },
  {
   "cell_type": "markdown",
   "id": "70e5cbc7",
   "metadata": {},
   "source": [
    "7. What function takes a Python data structure and returns a string of JSON data?"
   ]
  },
  {
   "cell_type": "markdown",
   "id": "f0d54fe5",
   "metadata": {},
   "source": [
    "dumps() function takes a Python data structure and returns a string of JSON data"
   ]
  }
 ],
 "metadata": {
  "kernelspec": {
   "display_name": "Python 3 (ipykernel)",
   "language": "python",
   "name": "python3"
  },
  "language_info": {
   "codemirror_mode": {
    "name": "ipython",
    "version": 3
   },
   "file_extension": ".py",
   "mimetype": "text/x-python",
   "name": "python",
   "nbconvert_exporter": "python",
   "pygments_lexer": "ipython3",
   "version": "3.9.7"
  }
 },
 "nbformat": 4,
 "nbformat_minor": 5
}
