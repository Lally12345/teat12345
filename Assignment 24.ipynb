{
 "cells": [
  {
   "cell_type": "markdown",
   "id": "85bb7647",
   "metadata": {},
   "source": [
    "1. What is the relationship between def statements and lambda expressions ?"
   ]
  },
  {
   "cell_type": "markdown",
   "id": "31e7c345",
   "metadata": {},
   "source": [
    "a lambda expression is an expression which evaluates to a function object while a def statement has no value and create a function object and binds to a "
   ]
  },
  {
   "cell_type": "markdown",
   "id": "3c95a463",
   "metadata": {},
   "source": [
    "2. What is the benefit of lambda?"
   ]
  },
  {
   "cell_type": "markdown",
   "id": "650f67a6",
   "metadata": {},
   "source": [
    "Lambda functions allow you to create small single use functions that can save time and space your code."
   ]
  },
  {
   "cell_type": "markdown",
   "id": "a42df40f",
   "metadata": {},
   "source": [
    "3. Compare and contrast map, filter, and reduce."
   ]
  },
  {
   "cell_type": "markdown",
   "id": "9af85cfd",
   "metadata": {},
   "source": [
    "map cannot return one single element for an array of multiple elements while reduce will always return the accumulator you eventually changed."
   ]
  },
  {
   "cell_type": "markdown",
   "id": "baf28f3e",
   "metadata": {},
   "source": [
    "4. What are function annotations, and how are they used?"
   ]
  },
  {
   "cell_type": "markdown",
   "id": "5ae1ab79",
   "metadata": {},
   "source": [
    "function annotations provide a way of associating various parts of a function with arbitary python expression at complie time."
   ]
  },
  {
   "cell_type": "markdown",
   "id": "d80e1f67",
   "metadata": {},
   "source": [
    "5. What are recursive functions, and how are they used?"
   ]
  },
  {
   "cell_type": "markdown",
   "id": "c3861e25",
   "metadata": {},
   "source": [
    "Recursive function is a function that repeats or uses its own previous term to calculate subsequent terms and thus forms a sequence of terms."
   ]
  },
  {
   "cell_type": "markdown",
   "id": "4b948bb1",
   "metadata": {},
   "source": [
    "6. What are some general design guidelines for coding functions?"
   ]
  },
  {
   "cell_type": "markdown",
   "id": "4432527b",
   "metadata": {},
   "source": [
    "safe,secure,reliable,testable"
   ]
  },
  {
   "cell_type": "markdown",
   "id": "4f476198",
   "metadata": {},
   "source": [
    "7. Name three or more ways that functions can communicate results to a caller."
   ]
  },
  {
   "cell_type": "markdown",
   "id": "d3f95fbc",
   "metadata": {},
   "source": [
    "three ways are handle integer, object,or string"
   ]
  }
 ],
 "metadata": {
  "kernelspec": {
   "display_name": "Python 3 (ipykernel)",
   "language": "python",
   "name": "python3"
  },
  "language_info": {
   "codemirror_mode": {
    "name": "ipython",
    "version": 3
   },
   "file_extension": ".py",
   "mimetype": "text/x-python",
   "name": "python",
   "nbconvert_exporter": "python",
   "pygments_lexer": "ipython3",
   "version": "3.9.7"
  }
 },
 "nbformat": 4,
 "nbformat_minor": 5
}
