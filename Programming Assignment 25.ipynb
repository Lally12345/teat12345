{
 "cells": [
  {
   "cell_type": "markdown",
   "id": "00fa7776",
   "metadata": {},
   "source": [
    "Question1\n",
    "Create a function that takes three integer arguments (a, b, c) and returns the amount of\n",
    "integers which are of equal value.\n",
    "Examples\n",
    "equal(3, 4, 3) ➞ 2\n",
    "equal(1, 1, 1) ➞ 3\n",
    "equal(3, 4, 1) ➞ 0\n",
    "Notes\n",
    "Your function must return 0, 2 or 3."
   ]
  },
  {
   "cell_type": "code",
   "execution_count": 1,
   "id": "9371f7b4",
   "metadata": {},
   "outputs": [
    {
     "name": "stdout",
     "output_type": "stream",
     "text": [
      "(3, 4, 3)0\n",
      "(1, 1, 1)3\n",
      "(3, 4, 1)0\n"
     ]
    }
   ],
   "source": [
    "def equal(a,b,c):\n",
    "    if a==b==c:\n",
    "        print(f'{a,b,c}{3}')\n",
    "    elif a==b or b==c:\n",
    "        print(f'{a,b,c}{2}')\n",
    "    else:\n",
    "        print(f'{a,b,c}{0}')\n",
    "        \n",
    "equal(3, 4, 3) \n",
    "equal(1, 1, 1) \n",
    "equal(3, 4, 1) \n",
    "        \n",
    "        "
   ]
  },
  {
   "cell_type": "markdown",
   "id": "b4b60e27",
   "metadata": {},
   "source": [
    "Question2\n",
    "Write a function that converts a dictionary into a list of keys-values tuples.\n",
    "Examples\n",
    "dict_to_list({\n",
    "&quot;D&quot;: 1,\n",
    "&quot;B&quot;: 2,\n",
    "&quot;C&quot;: 3\n",
    "}) ➞ [(&quot;B&quot;, 2), (&quot;C&quot;, 3), (&quot;D&quot;, 1)]\n",
    "dict_to_list({\n",
    "&quot;likes&quot;: 2,\n",
    "&quot;dislikes&quot;: 3,\n",
    "&quot;followers&quot;: 10\n",
    "}) ➞ [(&quot;dislikes&quot;, 3), (&quot;followers&quot;, 10), (&quot;likes&quot;, 2)]\n",
    "Notes\n",
    "Return the elements in the list in alphabetical order."
   ]
  },
  {
   "cell_type": "markdown",
   "id": "4c03febe",
   "metadata": {},
   "source": [
    "Question3\n",
    "Write a function that creates a dictionary with each (key, value) pair being the (lower case,\n",
    "upper case) versions of a letter, respectively.\n",
    "Examples\n",
    "mapping([&quot;p&quot;, &quot;s&quot;]) ➞ { &quot;p&quot;: &quot;P&quot;, &quot;s&quot;: &quot;S&quot; }\n",
    "\n",
    "mapping([&quot;a&quot;, &quot;b&quot;, &quot;c&quot;]) ➞ { &quot;a&quot;: &quot;A&quot;, &quot;b&quot;: &quot;B&quot;, &quot;c&quot;: &quot;C&quot; }\n",
    "mapping([&quot;a&quot;, &quot;v&quot;, &quot;y&quot;, &quot;z&quot;]) ➞ { &quot;a&quot;: &quot;A&quot;, &quot;v&quot;: &quot;V&quot;, &quot;y&quot;: &quot;Y&quot;, &quot;z&quot;: &quot;Z&quot; }\n",
    "Notes\n",
    "All of the letters in the input list will always be lowercase."
   ]
  },
  {
   "cell_type": "code",
   "execution_count": 3,
   "id": "5eeef18b",
   "metadata": {},
   "outputs": [
    {
     "name": "stdout",
     "output_type": "stream",
     "text": [
      "['p', 's']{'p': 'P', 's': 'S'}\n",
      "['a', 'b', 'c']{'a': 'A', 'b': 'B', 'c': 'C'}\n",
      "['a', 'v', 'y', 'z']{'a': 'A', 'v': 'V', 'y': 'Y', 'z': 'Z'}\n"
     ]
    }
   ],
   "source": [
    "def mapping(in_list):\n",
    "    out_dict={}\n",
    "    for ele in in_list:\n",
    "        out_dict[ele]=ele.upper()\n",
    "    print(f'{in_list}{out_dict}')\n",
    "    \n",
    "mapping(['p','s'])\n",
    "mapping(['a','b','c'])\n",
    "mapping(['a','v','y','z'])"
   ]
  },
  {
   "cell_type": "markdown",
   "id": "39b8a629",
   "metadata": {},
   "source": [
    "Question4\n",
    "Write a function, that replaces all vowels in a string with a specified vowel.\n",
    "Examples\n",
    "vow_replace(&quot;apples and bananas&quot;, &quot;u&quot;) ➞ &quot;upplus und bununus&quot;\n",
    "vow_replace(&quot;cheese casserole&quot;, &quot;o&quot;) ➞ &quot;chooso cossorolo&quot;\n",
    "vow_replace(&quot;stuffed jalapeno poppers&quot;, &quot;e&quot;) ➞ &quot;steffed jelepene peppers&quot;\n",
    "Notes\n",
    "All words will be lowercase. Y is not considered a vowel."
   ]
  }
 ],
 "metadata": {
  "kernelspec": {
   "display_name": "Python 3 (ipykernel)",
   "language": "python",
   "name": "python3"
  },
  "language_info": {
   "codemirror_mode": {
    "name": "ipython",
    "version": 3
   },
   "file_extension": ".py",
   "mimetype": "text/x-python",
   "name": "python",
   "nbconvert_exporter": "python",
   "pygments_lexer": "ipython3",
   "version": "3.9.7"
  }
 },
 "nbformat": 4,
 "nbformat_minor": 5
}
