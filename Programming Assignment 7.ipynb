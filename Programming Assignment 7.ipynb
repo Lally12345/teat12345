{
 "cells": [
  {
   "cell_type": "markdown",
   "id": "1a9758d6",
   "metadata": {},
   "source": [
    "1. Write a Python Program to find sum of array?"
   ]
  },
  {
   "cell_type": "code",
   "execution_count": 2,
   "id": "be879373",
   "metadata": {},
   "outputs": [
    {
     "name": "stdout",
     "output_type": "stream",
     "text": [
      "enter the array1,2,3,5,6\n",
      "the sum of (1, 2, 3, 5, 6) is 17\n"
     ]
    }
   ],
   "source": [
    "def sumOfArray():\n",
    "    in_arr=eval(input('enter the array'))\n",
    "    print(f'the sum of {in_arr} is {sum(in_arr)}')\n",
    "    \n",
    "sumOfArray()"
   ]
  },
  {
   "cell_type": "markdown",
   "id": "3ddfcf15",
   "metadata": {},
   "source": [
    "2. Write a Python Program to find largest element in an array?"
   ]
  },
  {
   "cell_type": "code",
   "execution_count": 3,
   "id": "e8873dee",
   "metadata": {},
   "outputs": [
    {
     "name": "stdout",
     "output_type": "stream",
     "text": [
      "enter the array15,100,9,7\n",
      "the largest element in (15, 100, 9, 7) is [100, 15, 9, 7]\n"
     ]
    }
   ],
   "source": [
    "def largestElement():\n",
    "    in_arr=eval(input('enter the array'))\n",
    "    print(f'the largest element in {in_arr} is {sorted(in_arr,reverse=True)}')\n",
    "    \n",
    "largestElement()"
   ]
  },
  {
   "cell_type": "markdown",
   "id": "2aba569a",
   "metadata": {},
   "source": [
    "3. Write a Python Program for array rotation?"
   ]
  },
  {
   "cell_type": "code",
   "execution_count": 6,
   "id": "d94d882d",
   "metadata": {},
   "outputs": [
    {
     "name": "stdout",
     "output_type": "stream",
     "text": [
      "enter the array1,2,3,4,5,6\n",
      "the reverse of the array (1, 2, 3, 4, 5, 6) is (6, 5, 4, 3, 2, 1)\n"
     ]
    }
   ],
   "source": [
    "def reverseOfArry():\n",
    "    in_arr=eval(input('enter the array'))\n",
    "    print(f'the reverse of the array {in_arr} is {in_arr[::-1]}')\n",
    "    \n",
    "reverseOfArry()"
   ]
  },
  {
   "cell_type": "markdown",
   "id": "e9e630de",
   "metadata": {},
   "source": [
    "4. Write a Python Program to Split the array and add the first part to the end?"
   ]
  },
  {
   "cell_type": "code",
   "execution_count": 7,
   "id": "ef0730cc",
   "metadata": {},
   "outputs": [
    {
     "name": "stdout",
     "output_type": "stream",
     "text": [
      "enter the array15,12,5,8,6\n",
      "the sum of dirst and last element of the array (15, 12, 5, 8, 6) is 21\n"
     ]
    }
   ],
   "source": [
    "def sumOfSplits():\n",
    "    in_arr=eval(input('enter the array'))\n",
    "    print(f'the sum of dirst and last element of the array {in_arr} is {in_arr[0]+in_arr[-1]}')\n",
    "    \n",
    "sumOfSplits()"
   ]
  },
  {
   "cell_type": "markdown",
   "id": "e5e72a7c",
   "metadata": {},
   "source": [
    "5. Write a Python Program to check if given array is Monotonic?"
   ]
  }
 ],
 "metadata": {
  "kernelspec": {
   "display_name": "Python 3 (ipykernel)",
   "language": "python",
   "name": "python3"
  },
  "language_info": {
   "codemirror_mode": {
    "name": "ipython",
    "version": 3
   },
   "file_extension": ".py",
   "mimetype": "text/x-python",
   "name": "python",
   "nbconvert_exporter": "python",
   "pygments_lexer": "ipython3",
   "version": "3.9.7"
  }
 },
 "nbformat": 4,
 "nbformat_minor": 5
}
