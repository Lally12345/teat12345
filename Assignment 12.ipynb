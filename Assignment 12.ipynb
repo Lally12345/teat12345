{
 "cells": [
  {
   "cell_type": "markdown",
   "id": "194f36e8",
   "metadata": {},
   "source": [
    "1. In what modes should the PdfFileReader() and PdfFileWriter() File objects will be opened?"
   ]
  },
  {
   "cell_type": "markdown",
   "id": "146f1431",
   "metadata": {},
   "source": [
    "PdfFileReader() can be opened by pressing 'rb' PdfFileWriter() can be opened by pressing 'wb'"
   ]
  },
  {
   "cell_type": "markdown",
   "id": "d664e5d8",
   "metadata": {},
   "source": [
    "2. From a PdfFileReader object, how do you get a Page object for page 5?"
   ]
  },
  {
   "cell_type": "markdown",
   "id": "2b460515",
   "metadata": {},
   "source": [
    "calling the getpage() method on a pdffilereader object and pressing it the page number of the page you are interested in"
   ]
  },
  {
   "cell_type": "markdown",
   "id": "036e4fee",
   "metadata": {},
   "source": [
    "4. If a PdfFileReader object’s PDF is encrypted with the password swordfish, what must you do\n",
    "before you can obtain Page objects from it?"
   ]
  },
  {
   "cell_type": "markdown",
   "id": "7e46dc6d",
   "metadata": {},
   "source": [
    "5. What methods do you use to rotate a page?"
   ]
  },
  {
   "cell_type": "markdown",
   "id": "6642b22d",
   "metadata": {},
   "source": [
    "the Page.GetRotation()"
   ]
  },
  {
   "cell_type": "markdown",
   "id": "371714d0",
   "metadata": {},
   "source": [
    "6. What is the difference between a Run object and a Paragraph object?"
   ]
  },
  {
   "cell_type": "markdown",
   "id": "b6b63ea1",
   "metadata": {},
   "source": [
    "Paragraph format provides access to paragraph for such as justification indentation line spacing but run taes tri states value like True False and none"
   ]
  },
  {
   "cell_type": "markdown",
   "id": "40e50818",
   "metadata": {},
   "source": [
    "7. How do you obtain a list of Paragraph objects for a Document object that’s stored in a variable\n",
    "named doc?"
   ]
  },
  {
   "cell_type": "markdown",
   "id": "b158bd9f",
   "metadata": {},
   "source": [
    "pip install python.docx"
   ]
  },
  {
   "cell_type": "markdown",
   "id": "fc72a2b6",
   "metadata": {},
   "source": [
    "8. What type of object has bold, underline, italic, strike, and outline variables?"
   ]
  },
  {
   "cell_type": "markdown",
   "id": "73e9c39a",
   "metadata": {},
   "source": [
    "A Run objects has bold, underline, italic, strike, and outline variables"
   ]
  },
  {
   "cell_type": "markdown",
   "id": "7db4a966",
   "metadata": {},
   "source": [
    "9. What is the difference between False, True, and None for the bold variable?"
   ]
  },
  {
   "cell_type": "markdown",
   "id": "41e77f9e",
   "metadata": {},
   "source": [
    "True and False are specific bool values use default and none is used as Generic."
   ]
  },
  {
   "cell_type": "markdown",
   "id": "c4fa3c16",
   "metadata": {},
   "source": [
    "10. How do you create a Document object for a new Word document?"
   ]
  },
  {
   "cell_type": "markdown",
   "id": "b78c17f6",
   "metadata": {},
   "source": [
    "By calling the docx.Document() function"
   ]
  },
  {
   "cell_type": "markdown",
   "id": "d4470e2f",
   "metadata": {},
   "source": [
    "11. How do you add a paragraph with the text &#39;Hello, there!&#39; to a Document object stored in a\n",
    "variable named doc?"
   ]
  },
  {
   "cell_type": "code",
   "execution_count": null,
   "id": "6f68ca3b",
   "metadata": {},
   "outputs": [],
   "source": [
    "import docx\n",
    "doc=docx.Document()\n",
    "\n",
    "doc.add_paragraph('Hello there!')\n",
    "doc.save('hellothere.docx')"
   ]
  },
  {
   "cell_type": "markdown",
   "id": "fa910998",
   "metadata": {},
   "source": [
    "12. What integers represent the levels of headings available in Word documents?"
   ]
  },
  {
   "cell_type": "markdown",
   "id": "fdb1411e",
   "metadata": {},
   "source": [
    "integer from 0 to 4"
   ]
  }
 ],
 "metadata": {
  "kernelspec": {
   "display_name": "Python 3 (ipykernel)",
   "language": "python",
   "name": "python3"
  },
  "language_info": {
   "codemirror_mode": {
    "name": "ipython",
    "version": 3
   },
   "file_extension": ".py",
   "mimetype": "text/x-python",
   "name": "python",
   "nbconvert_exporter": "python",
   "pygments_lexer": "ipython3",
   "version": "3.9.7"
  }
 },
 "nbformat": 4,
 "nbformat_minor": 5
}
