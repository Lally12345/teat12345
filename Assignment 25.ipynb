{
 "cells": [
  {
   "cell_type": "markdown",
   "id": "1c37695e",
   "metadata": {},
   "source": [
    "1) . What is the difference between enclosing a list comprehension in square brackets and\n",
    "parentheses?"
   ]
  },
  {
   "cell_type": "markdown",
   "id": "b58841da",
   "metadata": {},
   "source": [
    "square brackets are lists while parentheses are tuples."
   ]
  },
  {
   "cell_type": "markdown",
   "id": "088a9ce2",
   "metadata": {},
   "source": [
    "2) What is the relationship between generators and iterators?"
   ]
  },
  {
   "cell_type": "markdown",
   "id": "f3e4b996",
   "metadata": {},
   "source": [
    "iterators are used mostly to iterate other object and generators are mostly used in loops to generate an iterator."
   ]
  },
  {
   "cell_type": "markdown",
   "id": "5a82d0b2",
   "metadata": {},
   "source": [
    "3) What are the signs that a function is a generator function?"
   ]
  },
  {
   "cell_type": "markdown",
   "id": "dc9fddc3",
   "metadata": {},
   "source": [
    "in a function conntains at least one yield statement it becomes a generators functions."
   ]
  },
  {
   "cell_type": "markdown",
   "id": "a6dbf0d0",
   "metadata": {},
   "source": [
    "4) What is the purpose of a yield statement?"
   ]
  },
  {
   "cell_type": "markdown",
   "id": "8089f9a8",
   "metadata": {},
   "source": [
    "provides a value to the code looping over the generator and pause execution of the generator function."
   ]
  },
  {
   "cell_type": "markdown",
   "id": "8d0573eb",
   "metadata": {},
   "source": [
    "5) What is the relationship between map calls and list comprehensions? Make a comparison and\n",
    "contrast between the two."
   ]
  },
  {
   "cell_type": "code",
   "execution_count": null,
   "id": "2b240f87",
   "metadata": {},
   "outputs": [],
   "source": []
  }
 ],
 "metadata": {
  "kernelspec": {
   "display_name": "Python 3 (ipykernel)",
   "language": "python",
   "name": "python3"
  },
  "language_info": {
   "codemirror_mode": {
    "name": "ipython",
    "version": 3
   },
   "file_extension": ".py",
   "mimetype": "text/x-python",
   "name": "python",
   "nbconvert_exporter": "python",
   "pygments_lexer": "ipython3",
   "version": "3.9.7"
  }
 },
 "nbformat": 4,
 "nbformat_minor": 5
}
