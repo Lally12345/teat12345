{
 "cells": [
  {
   "cell_type": "markdown",
   "id": "5036b9f1",
   "metadata": {},
   "source": [
    "1. Write a Python program to find sum of elements in list?"
   ]
  },
  {
   "cell_type": "code",
   "execution_count": 2,
   "id": "927a0b77",
   "metadata": {},
   "outputs": [
    {
     "name": "stdout",
     "output_type": "stream",
     "text": [
      "enter the no of entries in a list5\n",
      "enter a element: 10\n",
      "enter a element: 12\n",
      "enter a element: 11\n",
      "enter a element: 15\n",
      "enter a element: 14\n",
      "sum of elements: 62\n"
     ]
    }
   ],
   "source": [
    "def sumOfList():\n",
    "    in_ele=int(input('enter the no of entries in a list'))\n",
    "    in_list=[]\n",
    "    for itr in range(in_ele):\n",
    "        in_list.append(int(input('enter a element: ')))\n",
    "    print(f'sum of elements: {sum(in_list)}')\n",
    "    \n",
    "sumOfList()"
   ]
  },
  {
   "cell_type": "markdown",
   "id": "18530545",
   "metadata": {},
   "source": [
    "2. Write a Python program to Multiply all numbers in the list?"
   ]
  },
  {
   "cell_type": "code",
   "execution_count": 3,
   "id": "0869f11e",
   "metadata": {},
   "outputs": [
    {
     "name": "stdout",
     "output_type": "stream",
     "text": [
      "enter the no of entries in a list4\n",
      "enter a element2\n",
      "enter a element3\n",
      "enter a element4\n",
      "enter a element6\n",
      "144\n"
     ]
    }
   ],
   "source": [
    "def mulOfList():\n",
    "    in_ele=int(input('enter the no of entries in a list'))\n",
    "    in_list=[]\n",
    "    mul=1\n",
    "    for itr in range(in_ele):\n",
    "        in_list.append(int(input('enter a element')))\n",
    "    for ele in in_list:\n",
    "        mul=mul*ele\n",
    "    print(mul)\n",
    "    \n",
    "mulOfList()"
   ]
  },
  {
   "cell_type": "markdown",
   "id": "b41e51c8",
   "metadata": {},
   "source": [
    "3. Write a Python program to find smallest number in a list?"
   ]
  },
  {
   "cell_type": "code",
   "execution_count": 3,
   "id": "9e4b83b3",
   "metadata": {},
   "outputs": [
    {
     "name": "stdout",
     "output_type": "stream",
     "text": [
      "enter the number of element in a list: 4\n",
      "enter a element: 5\n",
      "enter a element: 6\n",
      "enter a element: 8\n",
      "enter a element: 9\n",
      "the smallest element in  [5, 6, 8, 9] is 5\n"
     ]
    }
   ],
   "source": [
    "def smallElementList():\n",
    "    in_ele=int(input('enter the number of element in a list: '))\n",
    "    in_list=[]\n",
    "    for ele in range(in_ele):\n",
    "        in_list.append(int(input('enter a element: ')))\n",
    "    print(f'the smallest element in  {in_list} is {sorted(in_list)[0]}')\n",
    "    \n",
    "smallElementList()"
   ]
  },
  {
   "cell_type": "markdown",
   "id": "2746c60a",
   "metadata": {},
   "source": [
    "4. Write a Python program to find largest number in a list?"
   ]
  },
  {
   "cell_type": "code",
   "execution_count": 4,
   "id": "4893e27c",
   "metadata": {},
   "outputs": [
    {
     "name": "stdout",
     "output_type": "stream",
     "text": [
      "enter the no of element in a list3\n",
      "enter a element5\n",
      "enter a element9\n",
      "enter a element8\n",
      "the largest element in [5, 9, 8] is 9\n"
     ]
    }
   ],
   "source": [
    "def largeEleInlist():\n",
    "    in_ele=int(input('enter the no of element in a list'))\n",
    "    in_list=[]\n",
    "    for ele in range(in_ele):\n",
    "        in_list.append(int(input('enter a element')))\n",
    "    print(f'the largest element in {in_list} is {sorted(in_list,reverse=True)[0]}')\n",
    "largeEleInlist()\n",
    "    "
   ]
  },
  {
   "cell_type": "markdown",
   "id": "1f1b8f8c",
   "metadata": {},
   "source": [
    "5. Write a Python program to find second largest number in a list?"
   ]
  },
  {
   "cell_type": "code",
   "execution_count": 7,
   "id": "03b72c41",
   "metadata": {},
   "outputs": [
    {
     "name": "stdout",
     "output_type": "stream",
     "text": [
      "enter the no of element in list3\n",
      "enter a element5\n",
      "enter a element8\n",
      "enter a element9\n",
      "the second largest element in [5, 8, 9] is 8\n"
     ]
    }
   ],
   "source": [
    "def secondLargestEleInList():\n",
    "    in_ele=int(input('enter the no of element in list'))\n",
    "    in_list=[]\n",
    "    for ele in range(in_ele):\n",
    "        in_list.append(int(input('enter a element')))\n",
    "    print(f'the second largest element in {in_list} is {sorted(in_list,reverse =True)[1]}') \n",
    "    \n",
    "secondLargestEleInList()"
   ]
  },
  {
   "cell_type": "markdown",
   "id": "9ba86339",
   "metadata": {},
   "source": [
    "6. Write a Python program to find N largest elements from a list?"
   ]
  },
  {
   "cell_type": "markdown",
   "id": "b75d93fe",
   "metadata": {},
   "source": [
    "7. Write a Python program to print even numbers in a list?"
   ]
  },
  {
   "cell_type": "markdown",
   "id": "6a9179e2",
   "metadata": {},
   "source": [
    "8. Write a Python program to print odd numbers in a List?"
   ]
  },
  {
   "cell_type": "markdown",
   "id": "36044b60",
   "metadata": {},
   "source": [
    "9. Write a Python program to Remove empty List from List?"
   ]
  },
  {
   "cell_type": "markdown",
   "id": "1da2fe3f",
   "metadata": {},
   "source": [
    "10. Write a Python program to Cloning or Copying a list?"
   ]
  },
  {
   "cell_type": "code",
   "execution_count": 13,
   "id": "9d0f9776",
   "metadata": {},
   "outputs": [
    {
     "name": "stdout",
     "output_type": "stream",
     "text": [
      "enter a list[1,2,3,4,5,6,78,9]\n",
      "[1, 2, 3, 4, 5, 6, 78, 9] 2103621819392\n",
      "[1, 2, 3, 4, 5, 6, 78, 9] 2103622993792\n"
     ]
    }
   ],
   "source": [
    "import copy\n",
    "def CloneList():\n",
    "    in_list=eval(input('enter a list'))\n",
    "    print(in_list,id(in_list))\n",
    "    cloned_list=in_list.copy()\n",
    "    print(cloned_list, id(cloned_list))\n",
    "    \n",
    "CloneList()"
   ]
  },
  {
   "cell_type": "markdown",
   "id": "65c2eb9c",
   "metadata": {},
   "source": [
    "11. Write a Python program to Count occurrences of an element in a list?"
   ]
  },
  {
   "cell_type": "code",
   "execution_count": null,
   "id": "15493f3b",
   "metadata": {},
   "outputs": [],
   "source": []
  }
 ],
 "metadata": {
  "kernelspec": {
   "display_name": "Python 3 (ipykernel)",
   "language": "python",
   "name": "python3"
  },
  "language_info": {
   "codemirror_mode": {
    "name": "ipython",
    "version": 3
   },
   "file_extension": ".py",
   "mimetype": "text/x-python",
   "name": "python",
   "nbconvert_exporter": "python",
   "pygments_lexer": "ipython3",
   "version": "3.9.7"
  }
 },
 "nbformat": 4,
 "nbformat_minor": 5
}
