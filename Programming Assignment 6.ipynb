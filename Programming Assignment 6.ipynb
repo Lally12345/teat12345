{
 "cells": [
  {
   "cell_type": "markdown",
   "id": "8a36bf5d",
   "metadata": {},
   "source": [
    "1. Write a Python Program to Display Fibonacci Sequence Using Recursion?"
   ]
  },
  {
   "cell_type": "code",
   "execution_count": 3,
   "id": "e04d415e",
   "metadata": {},
   "outputs": [
    {
     "name": "stdout",
     "output_type": "stream",
     "text": [
      "enter the length of series8\n",
      "0,1, 3, 5, 8, 13, 21, 34, 55, 89, "
     ]
    }
   ],
   "source": [
    "def genFibonacci(n,a,b):\n",
    "    if n==0:\n",
    "        return 1\n",
    "    else:\n",
    "        result=a+b\n",
    "        print(result , end=', ')\n",
    "        genFibonacci(n-1,b,result)\n",
    "        \n",
    "in_num=int(input('enter the length of series'))\n",
    "print('0,1',end=', ')\n",
    "genFibonacci(in_num,1,2)"
   ]
  },
  {
   "cell_type": "markdown",
   "id": "02da1d52",
   "metadata": {},
   "source": [
    "2. Write a Python Program to Find Factorial of Number Using Recursion?"
   ]
  },
  {
   "cell_type": "code",
   "execution_count": 4,
   "id": "6eaa7dd4",
   "metadata": {},
   "outputs": [
    {
     "name": "stdout",
     "output_type": "stream",
     "text": [
      "enter a number15\n",
      "the factorial of 15 is 1307674368000\n"
     ]
    }
   ],
   "source": [
    "def factorial(num):\n",
    "    if (num<1):\n",
    "        return 1\n",
    "    else:\n",
    "        return num*factorial(num-1)\n",
    "num=int(input('enter a number'))\n",
    "value=factorial(num)\n",
    "print(f'the factorial of {num} is {value}')"
   ]
  },
  {
   "cell_type": "markdown",
   "id": "dd358c20",
   "metadata": {},
   "source": [
    "3. Write a Python Program to calculate your Body Mass Index?"
   ]
  },
  {
   "cell_type": "markdown",
   "id": "aa31d332",
   "metadata": {},
   "source": [
    "4. Write a Python Program to calculate the natural logarithm of any number?"
   ]
  },
  {
   "cell_type": "code",
   "execution_count": 5,
   "id": "dac6cd21",
   "metadata": {},
   "outputs": [
    {
     "name": "stdout",
     "output_type": "stream",
     "text": [
      "enter a number15\n",
      "2.70805020110221\n"
     ]
    }
   ],
   "source": [
    "import math\n",
    "def genNatlog():\n",
    "    in_num=eval(input('enter a number'))\n",
    "    print(math.log(in_num))\n",
    "    \n",
    "genNatlog()"
   ]
  },
  {
   "cell_type": "markdown",
   "id": "2c6d0afb",
   "metadata": {},
   "source": [
    "5. Write a Python Program for cube sum of first n natural numbers?"
   ]
  },
  {
   "cell_type": "code",
   "execution_count": null,
   "id": "ae4b0583",
   "metadata": {},
   "outputs": [],
   "source": []
  }
 ],
 "metadata": {
  "kernelspec": {
   "display_name": "Python 3 (ipykernel)",
   "language": "python",
   "name": "python3"
  },
  "language_info": {
   "codemirror_mode": {
    "name": "ipython",
    "version": 3
   },
   "file_extension": ".py",
   "mimetype": "text/x-python",
   "name": "python",
   "nbconvert_exporter": "python",
   "pygments_lexer": "ipython3",
   "version": "3.9.7"
  }
 },
 "nbformat": 4,
 "nbformat_minor": 5
}
