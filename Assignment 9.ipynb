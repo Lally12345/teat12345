{
 "cells": [
  {
   "cell_type": "markdown",
   "id": "93e8aa35",
   "metadata": {},
   "source": [
    "1. To what does a relative path refer?"
   ]
  },
  {
   "cell_type": "markdown",
   "id": "32572cb4",
   "metadata": {},
   "source": [
    "A relative path is interpreted from the perspective your current working directory"
   ]
  },
  {
   "cell_type": "markdown",
   "id": "0101425f",
   "metadata": {},
   "source": [
    "2. What does an absolute path start with your operating system?"
   ]
  },
  {
   "cell_type": "markdown",
   "id": "09c93c90",
   "metadata": {},
   "source": [
    "In linux the absolute path start with / where windows operating systems absolute path starts with C:"
   ]
  },
  {
   "cell_type": "markdown",
   "id": "4c6bd038",
   "metadata": {},
   "source": [
    "3. What do the functions os.getcwd() and os.chdir() do?"
   ]
  },
  {
   "cell_type": "markdown",
   "id": "4957fa21",
   "metadata": {},
   "source": [
    "os.getcwd() method tells us the location of current working directory whereas os.chdir() in python used to change the current working directory to speccified path."
   ]
  },
  {
   "cell_type": "markdown",
   "id": "bf63f485",
   "metadata": {},
   "source": [
    "4. What are the . and .. folders?"
   ]
  },
  {
   "cell_type": "markdown",
   "id": "078dea4f",
   "metadata": {},
   "source": [
    ". Represent the current directory whereas .. Represent the parent directory of the current directory."
   ]
  },
  {
   "cell_type": "markdown",
   "id": "1084b59b",
   "metadata": {},
   "source": [
    "5. In C:\\bacon\\eggs\\spam.txt, which part is the dir name, and which part is the base name?"
   ]
  },
  {
   "cell_type": "markdown",
   "id": "84474dd4",
   "metadata": {},
   "source": [
    "The directory name is C:\\bacon\\eggs\n",
    "and the base name is  spam.txt    "
   ]
  },
  {
   "cell_type": "markdown",
   "id": "b2f345ec",
   "metadata": {},
   "source": [
    "6. What are the three “mode” arguments that can be passed to the open() function?"
   ]
  },
  {
   "cell_type": "markdown",
   "id": "9de76133",
   "metadata": {},
   "source": [
    "The three modes are\n",
    "'r'\n",
    "'w'\n",
    "'a'"
   ]
  },
  {
   "cell_type": "markdown",
   "id": "b72dc5ab",
   "metadata": {},
   "source": [
    "7. What happens if an existing file is opened in write mode?"
   ]
  },
  {
   "cell_type": "markdown",
   "id": "a8220f29",
   "metadata": {},
   "source": [
    "We can overwrite any existing content in a file when a file is opened."
   ]
  },
  {
   "cell_type": "markdown",
   "id": "d5d0393f",
   "metadata": {},
   "source": [
    "8. How do you tell the difference between read() and readlines()?"
   ]
  },
  {
   "cell_type": "markdown",
   "id": "ae2b247b",
   "metadata": {},
   "source": [
    "Python readline() method will return a line from the file when called.readline() will return all the lines\n",
    "where read() called each character."
   ]
  },
  {
   "cell_type": "markdown",
   "id": "ecce84c2",
   "metadata": {},
   "source": [
    "9. What data structure does a shelf value resemble?"
   ]
  },
  {
   "cell_type": "markdown",
   "id": "4b072cd3",
   "metadata": {},
   "source": [
    "It contains key and values called dictionary.the shelf value resemble is very popular in python."
   ]
  }
 ],
 "metadata": {
  "kernelspec": {
   "display_name": "Python 3 (ipykernel)",
   "language": "python",
   "name": "python3"
  },
  "language_info": {
   "codemirror_mode": {
    "name": "ipython",
    "version": 3
   },
   "file_extension": ".py",
   "mimetype": "text/x-python",
   "name": "python",
   "nbconvert_exporter": "python",
   "pygments_lexer": "ipython3",
   "version": "3.9.7"
  }
 },
 "nbformat": 4,
 "nbformat_minor": 5
}
