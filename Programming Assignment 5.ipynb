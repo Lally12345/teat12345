{
 "cells": [
  {
   "cell_type": "markdown",
   "id": "3971d71a",
   "metadata": {},
   "source": [
    "1. Write a Python Program to Find LCM?"
   ]
  },
  {
   "cell_type": "code",
   "execution_count": 3,
   "id": "f21b44af",
   "metadata": {},
   "outputs": [
    {
     "name": "stdout",
     "output_type": "stream",
     "text": [
      "the lcm of 30,60 is 60\n",
      "the lcm of 10,15 is 30\n",
      "the lcm of 20,30 is 60\n"
     ]
    }
   ],
   "source": [
    "def findtheLcm(x_term,y_term):\n",
    "    if x_term>y_term:\n",
    "        greater=x_term\n",
    "    else:\n",
    "        greater=x_term\n",
    "    while True:\n",
    "        if ((greater%x_term==0) and (greater%y_term==0)):\n",
    "            lcm=greater\n",
    "            break\n",
    "        else:\n",
    "            greater +=1\n",
    "    print(f'the lcm of {x_term},{y_term} is {lcm}')\n",
    "    \n",
    "findtheLcm(30,60)\n",
    "findtheLcm(10,15)\n",
    "findtheLcm(20,30)\n",
    "        "
   ]
  },
  {
   "cell_type": "markdown",
   "id": "2ba6b9f5",
   "metadata": {},
   "source": [
    "2. Write a Python Program to Find HCF?"
   ]
  },
  {
   "cell_type": "code",
   "execution_count": 6,
   "id": "10d0cb65",
   "metadata": {},
   "outputs": [
    {
     "name": "stdout",
     "output_type": "stream",
     "text": [
      "the hcf of 15, 20 is 1\n",
      "the hcf of 15, 20 is 5\n",
      "the hcf of 12, 18 is 1\n",
      "the hcf of 12, 18 is 2\n",
      "the hcf of 12, 18 is 3\n",
      "the hcf of 12, 18 is 6\n",
      "the hcf of 8, 10 is 1\n",
      "the hcf of 8, 10 is 2\n"
     ]
    }
   ],
   "source": [
    "def findthehcf(x_term,y_term):\n",
    "    if x_term>y_term:\n",
    "        smaller=y_term\n",
    "    else:\n",
    "        smaller=y_term\n",
    "    for ele in range(1,smaller*1):\n",
    "        if((x_term%ele==0) and (y_term%ele==0)):\n",
    "            hcf=ele\n",
    "            print(f'the hcf of {x_term}, {y_term} is {hcf}')\n",
    "            \n",
    "            \n",
    "findthehcf(15,20)\n",
    "findthehcf(12,18)\n",
    "findthehcf(8,10)\n",
    "\n",
    "\n",
    "    "
   ]
  },
  {
   "cell_type": "markdown",
   "id": "1e4cd3c8",
   "metadata": {},
   "source": [
    "3. Write a Python Program to Convert Decimal to Binary, Octal and Hexadecimal?"
   ]
  },
  {
   "cell_type": "code",
   "execution_count": 7,
   "id": "a3c55125",
   "metadata": {},
   "outputs": [
    {
     "name": "stdout",
     "output_type": "stream",
     "text": [
      "enter a number1030\n",
      "binary number\n",
      "octal number\n",
      "hexadecimal number\n"
     ]
    }
   ],
   "source": [
    "def DecimalToOther():\n",
    "    num=int(input('enter a number'))\n",
    "    print(f'binary number')\n",
    "    print(f'octal number')\n",
    "    print(f'hexadecimal number')\n",
    "    \n",
    "DecimalToOther()"
   ]
  },
  {
   "cell_type": "markdown",
   "id": "499c8da2",
   "metadata": {},
   "source": [
    "4. Write a Python Program To Find ASCII value of a character?"
   ]
  },
  {
   "cell_type": "code",
   "execution_count": null,
   "id": "7732402f",
   "metadata": {},
   "outputs": [],
   "source": [
    "def charToAscii():\n",
    "    char=input('enter a character')\n",
    "    if len(char)>1:\n",
    "        print('please enter a single character')\n",
    "    else:\n",
    "        print(f'Ascii character of {char} is {ord(char)})"
   ]
  }
 ],
 "metadata": {
  "kernelspec": {
   "display_name": "Python 3 (ipykernel)",
   "language": "python",
   "name": "python3"
  },
  "language_info": {
   "codemirror_mode": {
    "name": "ipython",
    "version": 3
   },
   "file_extension": ".py",
   "mimetype": "text/x-python",
   "name": "python",
   "nbconvert_exporter": "python",
   "pygments_lexer": "ipython3",
   "version": "3.9.7"
  }
 },
 "nbformat": 4,
 "nbformat_minor": 5
}
