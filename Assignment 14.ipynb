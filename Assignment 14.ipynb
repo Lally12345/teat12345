{
 "cells": [
  {
   "cell_type": "markdown",
   "id": "f5f4363e",
   "metadata": {},
   "source": [
    "1. What does RGBA stand for?"
   ]
  },
  {
   "cell_type": "markdown",
   "id": "367945de",
   "metadata": {},
   "source": [
    "RGBA stands for Red Green Blue Alpha"
   ]
  },
  {
   "cell_type": "markdown",
   "id": "8d1b846f",
   "metadata": {},
   "source": [
    "2. From the Pillow module, how do you get the RGBA value of any images?"
   ]
  },
  {
   "cell_type": "markdown",
   "id": "2b677786",
   "metadata": {},
   "source": [
    "Imagecolour.grtcolour() gives RGBA value of any images"
   ]
  },
  {
   "cell_type": "markdown",
   "id": "45a08c27",
   "metadata": {},
   "source": [
    "3. What is a box tuple, and how does it work?"
   ]
  },
  {
   "cell_type": "markdown",
   "id": "d236f757",
   "metadata": {},
   "source": [
    "Cordinates and box tuples image pixcels are addressed with x- and y- coordinates which respectively specify a pixels"
   ]
  },
  {
   "cell_type": "markdown",
   "id": "49b5e735",
   "metadata": {},
   "source": [
    "4. Use your image and load in notebook then, How can you find out the width and height of an\n",
    "Image object?"
   ]
  },
  {
   "cell_type": "code",
   "execution_count": null,
   "id": "0b4d2261",
   "metadata": {},
   "outputs": [],
   "source": [
    "from PIL import image\n",
    "pic=image.open('pic,jpg')\n",
    "print(f'width,Height->{pic,Size}')"
   ]
  },
  {
   "cell_type": "markdown",
   "id": "8e3fb71e",
   "metadata": {},
   "source": [
    "5. What method would you call to get Image object for a 100×100 image, excluding the lower-left\n",
    "quarter of it?"
   ]
  },
  {
   "cell_type": "code",
   "execution_count": null,
   "id": "702033e8",
   "metadata": {},
   "outputs": [],
   "source": [
    "from PIL import image\n",
    "pic=image.open('pic,jpg')\n",
    "new_img=img.crop(0,50,50,50)"
   ]
  },
  {
   "cell_type": "markdown",
   "id": "e42325cf",
   "metadata": {},
   "source": [
    "6. After making changes to an Image object, how could you save it as an image file?"
   ]
  },
  {
   "cell_type": "code",
   "execution_count": null,
   "id": "aecb1a5d",
   "metadata": {},
   "outputs": [],
   "source": [
    "from PIL import image\n",
    "pic=image.open('pic,jpg')\n",
    "pic.save('pic2.jpg')"
   ]
  },
  {
   "cell_type": "markdown",
   "id": "992db7bb",
   "metadata": {},
   "source": [
    "7. What module contains Pillow’s shape-drawing code?"
   ]
  },
  {
   "cell_type": "markdown",
   "id": "a9e7eb65",
   "metadata": {},
   "source": [
    "ImageDraw module contains pillows shape-drawing code"
   ]
  },
  {
   "cell_type": "markdown",
   "id": "958a8d32",
   "metadata": {},
   "source": [
    "8. Image objects do not have drawing methods. What kind of object does? How do you get this kind\n",
    "of object?"
   ]
  },
  {
   "cell_type": "markdown",
   "id": "f891e5b0",
   "metadata": {},
   "source": [
    "point(),line(),rectangle() they are returned by passing the image object to the ImageDraw.Draw() function."
   ]
  },
  {
   "cell_type": "code",
   "execution_count": null,
   "id": "0d523043",
   "metadata": {},
   "outputs": [],
   "source": []
  }
 ],
 "metadata": {
  "kernelspec": {
   "display_name": "Python 3 (ipykernel)",
   "language": "python",
   "name": "python3"
  },
  "language_info": {
   "codemirror_mode": {
    "name": "ipython",
    "version": 3
   },
   "file_extension": ".py",
   "mimetype": "text/x-python",
   "name": "python",
   "nbconvert_exporter": "python",
   "pygments_lexer": "ipython3",
   "version": "3.9.7"
  }
 },
 "nbformat": 4,
 "nbformat_minor": 5
}
