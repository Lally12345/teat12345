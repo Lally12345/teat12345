{
 "cells": [
  {
   "cell_type": "markdown",
   "id": "00cd9962",
   "metadata": {},
   "source": [
    "1. Make a class called Thing with no contents and print it. Then, create an object called example\n",
    "from this class and also print it. Are the printed values the same or different?"
   ]
  },
  {
   "cell_type": "code",
   "execution_count": 1,
   "id": "f96868cd",
   "metadata": {},
   "outputs": [
    {
     "name": "stdout",
     "output_type": "stream",
     "text": [
      "<class '__main__.Thing'>\n",
      "<__main__.Thing object at 0x0000026F5926CDC0>\n"
     ]
    }
   ],
   "source": [
    "class Thing:\n",
    "    pass\n",
    "print(Thing)\n",
    "\n",
    "example=Thing()\n",
    "print(example)"
   ]
  },
  {
   "cell_type": "markdown",
   "id": "3585b857",
   "metadata": {},
   "source": [
    "2. Create a new class called Thing2 and add the value &#39;abc&#39; to the letters class attribute. Letters\n",
    "should be printed."
   ]
  },
  {
   "cell_type": "code",
   "execution_count": 2,
   "id": "6e98dc43",
   "metadata": {},
   "outputs": [
    {
     "name": "stdout",
     "output_type": "stream",
     "text": [
      "abc\n"
     ]
    }
   ],
   "source": [
    "class Thing2:\n",
    "    letters='abc'\n",
    "    \n",
    "print(Thing2.letters)    "
   ]
  },
  {
   "cell_type": "markdown",
   "id": "be7152ef",
   "metadata": {},
   "source": [
    "3. Make yet another class called, of course, Thing3. This time, assign the value &#39;xyz&#39; to an instance\n",
    "(object) attribute called letters. Print letters. Do you need to make an object from the class to do\n",
    "this?"
   ]
  },
  {
   "cell_type": "code",
   "execution_count": 4,
   "id": "00897469",
   "metadata": {},
   "outputs": [
    {
     "name": "stdout",
     "output_type": "stream",
     "text": [
      "xyz\n"
     ]
    }
   ],
   "source": [
    "class Thing3:\n",
    "    def __init__(self):\n",
    "         self.letters='xyz'\n",
    "        \n",
    "try:\n",
    "    print(Thing3.letters)\n",
    "except:\n",
    "    my_thing=Thing3()\n",
    "    print(my_thing.letters)"
   ]
  },
  {
   "cell_type": "markdown",
   "id": "decaace5",
   "metadata": {},
   "source": [
    "4. Create an Element class with the instance attributes name, symbol, and number. Create a class\n",
    "object with the values &#39;Hydrogen,&#39; &#39;H,&#39; and 1."
   ]
  },
  {
   "cell_type": "code",
   "execution_count": 14,
   "id": "db5b1044",
   "metadata": {},
   "outputs": [],
   "source": [
    "class Element:\n",
    "    def __init__(self,name,symbol,number):\n",
    "        self.name=name\n",
    "        self.symbol=symbol\n",
    "        self.number=number\n",
    "my_elements=Element('Hydrogen','H',1)        "
   ]
  },
  {
   "cell_type": "markdown",
   "id": "17e70d06",
   "metadata": {},
   "source": [
    "5. Make a dictionary with these keys and values: &#39;name&#39;: &#39;Hydrogen&#39;, &#39;symbol&#39;: &#39;H&#39;, &#39;number&#39;: 1. Then,\n",
    "create an object called hydrogen from class Element using this dictionary."
   ]
  },
  {
   "cell_type": "code",
   "execution_count": 15,
   "id": "f5e29693",
   "metadata": {},
   "outputs": [
    {
     "name": "stdout",
     "output_type": "stream",
     "text": [
      "{'name': 'Hydrogen', 'symbol': 'H', 'number': 1}\n"
     ]
    },
    {
     "ename": "NameError",
     "evalue": "name 'hydrogen' is not defined",
     "output_type": "error",
     "traceback": [
      "\u001b[1;31m---------------------------------------------------------------------------\u001b[0m",
      "\u001b[1;31mNameError\u001b[0m                                 Traceback (most recent call last)",
      "\u001b[1;32m~\\AppData\\Local\\Temp/ipykernel_6880/2570173377.py\u001b[0m in \u001b[0;36m<module>\u001b[1;34m\u001b[0m\n\u001b[0;32m      3\u001b[0m \u001b[1;33m\u001b[0m\u001b[0m\n\u001b[0;32m      4\u001b[0m \u001b[0mhydrogn\u001b[0m\u001b[1;33m=\u001b[0m\u001b[0mElement\u001b[0m\u001b[1;33m(\u001b[0m\u001b[1;33m*\u001b[0m\u001b[0mcustom_dict\u001b[0m\u001b[1;33m.\u001b[0m\u001b[0mvalues\u001b[0m\u001b[1;33m(\u001b[0m\u001b[1;33m)\u001b[0m\u001b[1;33m)\u001b[0m\u001b[1;33m\u001b[0m\u001b[1;33m\u001b[0m\u001b[0m\n\u001b[1;32m----> 5\u001b[1;33m \u001b[0mprint\u001b[0m\u001b[1;33m(\u001b[0m\u001b[0mhydrogen\u001b[0m\u001b[1;33m.\u001b[0m\u001b[0mname\u001b[0m\u001b[1;33m,\u001b[0m\u001b[0mhydrogen\u001b[0m\u001b[1;33m.\u001b[0m\u001b[0msymbol\u001b[0m\u001b[1;33m,\u001b[0m\u001b[0mhydrogen\u001b[0m\u001b[1;33m.\u001b[0m\u001b[0mnumber\u001b[0m\u001b[1;33m,\u001b[0m \u001b[0msep\u001b[0m\u001b[1;33m=\u001b[0m\u001b[1;34m'\\t'\u001b[0m\u001b[1;33m)\u001b[0m\u001b[1;33m\u001b[0m\u001b[1;33m\u001b[0m\u001b[0m\n\u001b[0m\u001b[0;32m      6\u001b[0m \u001b[1;33m\u001b[0m\u001b[0m\n\u001b[0;32m      7\u001b[0m \u001b[0mhydrogen\u001b[0m\u001b[1;33m=\u001b[0m\u001b[0mElement\u001b[0m\u001b[1;33m(\u001b[0m\u001b[1;33m**\u001b[0m\u001b[0mcustom_dict\u001b[0m\u001b[1;33m)\u001b[0m\u001b[1;33m\u001b[0m\u001b[1;33m\u001b[0m\u001b[0m\n",
      "\u001b[1;31mNameError\u001b[0m: name 'hydrogen' is not defined"
     ]
    }
   ],
   "source": [
    "custom_dict={'name':'Hydrogen','symbol':'H','number':1}\n",
    "print(custom_dict)\n",
    "\n",
    "hydrogn=Element(*custom_dict.values())\n",
    "print(hydrogen.name,hydrogen.symbol,hydrogen.number, sep='\\t')\n",
    "\n",
    "hydrogen=Element(**custom_dict)\n",
    "print(hydrogen.name,hydrogen.symbol,hydrogen.number, sep='\\t')\n",
    "\n"
   ]
  },
  {
   "cell_type": "markdown",
   "id": "615ab5e3",
   "metadata": {},
   "source": [
    "6. For the Element class, define a method called dump() that prints the values of the object’s\n",
    "attributes (name, symbol, and number). Create the hydrogen object from this new definition and\n",
    "use dump() to print its attributes."
   ]
  },
  {
   "cell_type": "code",
   "execution_count": 16,
   "id": "b705a820",
   "metadata": {},
   "outputs": [
    {
     "name": "stdout",
     "output_type": "stream",
     "text": [
      "Hydrogen H 1\n"
     ]
    }
   ],
   "source": [
    "class Element:\n",
    "    def __init__(self,name,symbol,number):\n",
    "        self.name=name\n",
    "        self.number=number\n",
    "        self.symbol=symbol\n",
    "    def dump(self):\n",
    "        print(self.name,self.symbol,self.number)\n",
    "        \n",
    "hydrogen=Element('Hydrogen','H',1)\n",
    "hydrogen.dump()\n",
    "    "
   ]
  },
  {
   "cell_type": "markdown",
   "id": "cfab4a09",
   "metadata": {},
   "source": [
    "7. Call print(hydrogen). In the definition of Element, change the name of method dump to __str__,\n",
    "create a new hydrogen object, and call print(hydrogen) again."
   ]
  },
  {
   "cell_type": "code",
   "execution_count": 17,
   "id": "738d5d32",
   "metadata": {},
   "outputs": [
    {
     "name": "stdout",
     "output_type": "stream",
     "text": [
      "Hydrogen H 1\n"
     ]
    }
   ],
   "source": [
    "class Element:\n",
    "    def __init__(self,name,symbol,number):\n",
    "        self.name=name\n",
    "        self.number=number\n",
    "        self.symbol=symbol\n",
    "    def __str__(self):\n",
    "        return f'{self.name} {self.symbol} {self.number}'\n",
    "        \n",
    "hydrogen=Element('Hydrogen','H',1)\n",
    "print(hydrogen)\n",
    "    "
   ]
  },
  {
   "cell_type": "markdown",
   "id": "89a69865",
   "metadata": {},
   "source": [
    "8. Modify Element to make the attributes name, symbol, and number private. Define a getter\n",
    "property for each to return its value."
   ]
  },
  {
   "cell_type": "markdown",
   "id": "83cb518d",
   "metadata": {},
   "source": [
    "9. Define three classes: Bear, Rabbit, and Octothorpe. For each, define only one method: eats(). This\n",
    "should return &#39;berries&#39; (Bear), &#39;clover&#39; (Rabbit), or &#39;campers&#39; (Octothorpe). Create one object from\n",
    "each and print what it eats."
   ]
  },
  {
   "cell_type": "markdown",
   "id": "929b55df",
   "metadata": {},
   "source": [
    "10. Define these classes: Laser, Claw, and SmartPhone. Each has only one method: does(). This\n",
    "returns &#39;disintegrate&#39; (Laser), &#39;crush&#39; (Claw), or &#39;ring&#39; (SmartPhone). Then, define the class Robot that\n",
    "has one instance (object) of each of these. Define a does() method for the Robot that prints what its\n",
    "component objects do."
   ]
  },
  {
   "cell_type": "code",
   "execution_count": null,
   "id": "fedafe2f",
   "metadata": {},
   "outputs": [],
   "source": []
  }
 ],
 "metadata": {
  "kernelspec": {
   "display_name": "Python 3 (ipykernel)",
   "language": "python",
   "name": "python3"
  },
  "language_info": {
   "codemirror_mode": {
    "name": "ipython",
    "version": 3
   },
   "file_extension": ".py",
   "mimetype": "text/x-python",
   "name": "python",
   "nbconvert_exporter": "python",
   "pygments_lexer": "ipython3",
   "version": "3.9.7"
  }
 },
 "nbformat": 4,
 "nbformat_minor": 5
}
